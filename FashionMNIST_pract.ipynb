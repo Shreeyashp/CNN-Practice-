{
  "nbformat": 4,
  "nbformat_minor": 0,
  "metadata": {
    "colab": {
      "provenance": [],
      "collapsed_sections": []
    },
    "kernelspec": {
      "name": "python3",
      "display_name": "Python 3"
    },
    "language_info": {
      "name": "python"
    },
    "accelerator": "GPU",
    "widgets": {
      "application/vnd.jupyter.widget-state+json": {
        "635c94226f704f35bc0a8a84dc5cae59": {
          "model_module": "@jupyter-widgets/controls",
          "model_name": "HBoxModel",
          "model_module_version": "1.5.0",
          "state": {
            "_dom_classes": [],
            "_model_module": "@jupyter-widgets/controls",
            "_model_module_version": "1.5.0",
            "_model_name": "HBoxModel",
            "_view_count": null,
            "_view_module": "@jupyter-widgets/controls",
            "_view_module_version": "1.5.0",
            "_view_name": "HBoxView",
            "box_style": "",
            "children": [
              "IPY_MODEL_0a0f34ac786748cf83954aeaee642994",
              "IPY_MODEL_a6f806130a3044f68ab57028276de9d2",
              "IPY_MODEL_d4630864eb44433e98021edb681cdec1"
            ],
            "layout": "IPY_MODEL_8e4c1f0e7b5945a7bcd058a962075989"
          }
        },
        "0a0f34ac786748cf83954aeaee642994": {
          "model_module": "@jupyter-widgets/controls",
          "model_name": "HTMLModel",
          "model_module_version": "1.5.0",
          "state": {
            "_dom_classes": [],
            "_model_module": "@jupyter-widgets/controls",
            "_model_module_version": "1.5.0",
            "_model_name": "HTMLModel",
            "_view_count": null,
            "_view_module": "@jupyter-widgets/controls",
            "_view_module_version": "1.5.0",
            "_view_name": "HTMLView",
            "description": "",
            "description_tooltip": null,
            "layout": "IPY_MODEL_b1963e99994c4816ae43f5492b77ddf0",
            "placeholder": "​",
            "style": "IPY_MODEL_292c20a21f3d4e2cb4fdedfe20b75408",
            "value": "100%"
          }
        },
        "a6f806130a3044f68ab57028276de9d2": {
          "model_module": "@jupyter-widgets/controls",
          "model_name": "FloatProgressModel",
          "model_module_version": "1.5.0",
          "state": {
            "_dom_classes": [],
            "_model_module": "@jupyter-widgets/controls",
            "_model_module_version": "1.5.0",
            "_model_name": "FloatProgressModel",
            "_view_count": null,
            "_view_module": "@jupyter-widgets/controls",
            "_view_module_version": "1.5.0",
            "_view_name": "ProgressView",
            "bar_style": "success",
            "description": "",
            "description_tooltip": null,
            "layout": "IPY_MODEL_1ac5ca04677e4bc4ba07eb2425ea0824",
            "max": 26421880,
            "min": 0,
            "orientation": "horizontal",
            "style": "IPY_MODEL_59bb098e7a6044169256ab66322b8920",
            "value": 26421880
          }
        },
        "d4630864eb44433e98021edb681cdec1": {
          "model_module": "@jupyter-widgets/controls",
          "model_name": "HTMLModel",
          "model_module_version": "1.5.0",
          "state": {
            "_dom_classes": [],
            "_model_module": "@jupyter-widgets/controls",
            "_model_module_version": "1.5.0",
            "_model_name": "HTMLModel",
            "_view_count": null,
            "_view_module": "@jupyter-widgets/controls",
            "_view_module_version": "1.5.0",
            "_view_name": "HTMLView",
            "description": "",
            "description_tooltip": null,
            "layout": "IPY_MODEL_38660dc93b384e63a2022fb5deeaf79e",
            "placeholder": "​",
            "style": "IPY_MODEL_eb4ef717c89e48fe81a4837bfe5c4435",
            "value": " 26421880/26421880 [00:01&lt;00:00, 28551119.04it/s]"
          }
        },
        "8e4c1f0e7b5945a7bcd058a962075989": {
          "model_module": "@jupyter-widgets/base",
          "model_name": "LayoutModel",
          "model_module_version": "1.2.0",
          "state": {
            "_model_module": "@jupyter-widgets/base",
            "_model_module_version": "1.2.0",
            "_model_name": "LayoutModel",
            "_view_count": null,
            "_view_module": "@jupyter-widgets/base",
            "_view_module_version": "1.2.0",
            "_view_name": "LayoutView",
            "align_content": null,
            "align_items": null,
            "align_self": null,
            "border": null,
            "bottom": null,
            "display": null,
            "flex": null,
            "flex_flow": null,
            "grid_area": null,
            "grid_auto_columns": null,
            "grid_auto_flow": null,
            "grid_auto_rows": null,
            "grid_column": null,
            "grid_gap": null,
            "grid_row": null,
            "grid_template_areas": null,
            "grid_template_columns": null,
            "grid_template_rows": null,
            "height": null,
            "justify_content": null,
            "justify_items": null,
            "left": null,
            "margin": null,
            "max_height": null,
            "max_width": null,
            "min_height": null,
            "min_width": null,
            "object_fit": null,
            "object_position": null,
            "order": null,
            "overflow": null,
            "overflow_x": null,
            "overflow_y": null,
            "padding": null,
            "right": null,
            "top": null,
            "visibility": null,
            "width": null
          }
        },
        "b1963e99994c4816ae43f5492b77ddf0": {
          "model_module": "@jupyter-widgets/base",
          "model_name": "LayoutModel",
          "model_module_version": "1.2.0",
          "state": {
            "_model_module": "@jupyter-widgets/base",
            "_model_module_version": "1.2.0",
            "_model_name": "LayoutModel",
            "_view_count": null,
            "_view_module": "@jupyter-widgets/base",
            "_view_module_version": "1.2.0",
            "_view_name": "LayoutView",
            "align_content": null,
            "align_items": null,
            "align_self": null,
            "border": null,
            "bottom": null,
            "display": null,
            "flex": null,
            "flex_flow": null,
            "grid_area": null,
            "grid_auto_columns": null,
            "grid_auto_flow": null,
            "grid_auto_rows": null,
            "grid_column": null,
            "grid_gap": null,
            "grid_row": null,
            "grid_template_areas": null,
            "grid_template_columns": null,
            "grid_template_rows": null,
            "height": null,
            "justify_content": null,
            "justify_items": null,
            "left": null,
            "margin": null,
            "max_height": null,
            "max_width": null,
            "min_height": null,
            "min_width": null,
            "object_fit": null,
            "object_position": null,
            "order": null,
            "overflow": null,
            "overflow_x": null,
            "overflow_y": null,
            "padding": null,
            "right": null,
            "top": null,
            "visibility": null,
            "width": null
          }
        },
        "292c20a21f3d4e2cb4fdedfe20b75408": {
          "model_module": "@jupyter-widgets/controls",
          "model_name": "DescriptionStyleModel",
          "model_module_version": "1.5.0",
          "state": {
            "_model_module": "@jupyter-widgets/controls",
            "_model_module_version": "1.5.0",
            "_model_name": "DescriptionStyleModel",
            "_view_count": null,
            "_view_module": "@jupyter-widgets/base",
            "_view_module_version": "1.2.0",
            "_view_name": "StyleView",
            "description_width": ""
          }
        },
        "1ac5ca04677e4bc4ba07eb2425ea0824": {
          "model_module": "@jupyter-widgets/base",
          "model_name": "LayoutModel",
          "model_module_version": "1.2.0",
          "state": {
            "_model_module": "@jupyter-widgets/base",
            "_model_module_version": "1.2.0",
            "_model_name": "LayoutModel",
            "_view_count": null,
            "_view_module": "@jupyter-widgets/base",
            "_view_module_version": "1.2.0",
            "_view_name": "LayoutView",
            "align_content": null,
            "align_items": null,
            "align_self": null,
            "border": null,
            "bottom": null,
            "display": null,
            "flex": null,
            "flex_flow": null,
            "grid_area": null,
            "grid_auto_columns": null,
            "grid_auto_flow": null,
            "grid_auto_rows": null,
            "grid_column": null,
            "grid_gap": null,
            "grid_row": null,
            "grid_template_areas": null,
            "grid_template_columns": null,
            "grid_template_rows": null,
            "height": null,
            "justify_content": null,
            "justify_items": null,
            "left": null,
            "margin": null,
            "max_height": null,
            "max_width": null,
            "min_height": null,
            "min_width": null,
            "object_fit": null,
            "object_position": null,
            "order": null,
            "overflow": null,
            "overflow_x": null,
            "overflow_y": null,
            "padding": null,
            "right": null,
            "top": null,
            "visibility": null,
            "width": null
          }
        },
        "59bb098e7a6044169256ab66322b8920": {
          "model_module": "@jupyter-widgets/controls",
          "model_name": "ProgressStyleModel",
          "model_module_version": "1.5.0",
          "state": {
            "_model_module": "@jupyter-widgets/controls",
            "_model_module_version": "1.5.0",
            "_model_name": "ProgressStyleModel",
            "_view_count": null,
            "_view_module": "@jupyter-widgets/base",
            "_view_module_version": "1.2.0",
            "_view_name": "StyleView",
            "bar_color": null,
            "description_width": ""
          }
        },
        "38660dc93b384e63a2022fb5deeaf79e": {
          "model_module": "@jupyter-widgets/base",
          "model_name": "LayoutModel",
          "model_module_version": "1.2.0",
          "state": {
            "_model_module": "@jupyter-widgets/base",
            "_model_module_version": "1.2.0",
            "_model_name": "LayoutModel",
            "_view_count": null,
            "_view_module": "@jupyter-widgets/base",
            "_view_module_version": "1.2.0",
            "_view_name": "LayoutView",
            "align_content": null,
            "align_items": null,
            "align_self": null,
            "border": null,
            "bottom": null,
            "display": null,
            "flex": null,
            "flex_flow": null,
            "grid_area": null,
            "grid_auto_columns": null,
            "grid_auto_flow": null,
            "grid_auto_rows": null,
            "grid_column": null,
            "grid_gap": null,
            "grid_row": null,
            "grid_template_areas": null,
            "grid_template_columns": null,
            "grid_template_rows": null,
            "height": null,
            "justify_content": null,
            "justify_items": null,
            "left": null,
            "margin": null,
            "max_height": null,
            "max_width": null,
            "min_height": null,
            "min_width": null,
            "object_fit": null,
            "object_position": null,
            "order": null,
            "overflow": null,
            "overflow_x": null,
            "overflow_y": null,
            "padding": null,
            "right": null,
            "top": null,
            "visibility": null,
            "width": null
          }
        },
        "eb4ef717c89e48fe81a4837bfe5c4435": {
          "model_module": "@jupyter-widgets/controls",
          "model_name": "DescriptionStyleModel",
          "model_module_version": "1.5.0",
          "state": {
            "_model_module": "@jupyter-widgets/controls",
            "_model_module_version": "1.5.0",
            "_model_name": "DescriptionStyleModel",
            "_view_count": null,
            "_view_module": "@jupyter-widgets/base",
            "_view_module_version": "1.2.0",
            "_view_name": "StyleView",
            "description_width": ""
          }
        },
        "13848cf6cb0544e082f6b92e7dedbefb": {
          "model_module": "@jupyter-widgets/controls",
          "model_name": "HBoxModel",
          "model_module_version": "1.5.0",
          "state": {
            "_dom_classes": [],
            "_model_module": "@jupyter-widgets/controls",
            "_model_module_version": "1.5.0",
            "_model_name": "HBoxModel",
            "_view_count": null,
            "_view_module": "@jupyter-widgets/controls",
            "_view_module_version": "1.5.0",
            "_view_name": "HBoxView",
            "box_style": "",
            "children": [
              "IPY_MODEL_640a9d01a46e45648be13807c0589d62",
              "IPY_MODEL_eaf385e260c14b6ab4d82a2e6d4573b5",
              "IPY_MODEL_267cb1f06b0c451abd2f03d37e27a2be"
            ],
            "layout": "IPY_MODEL_0f2e7713350c4197a03ab399e7fccad6"
          }
        },
        "640a9d01a46e45648be13807c0589d62": {
          "model_module": "@jupyter-widgets/controls",
          "model_name": "HTMLModel",
          "model_module_version": "1.5.0",
          "state": {
            "_dom_classes": [],
            "_model_module": "@jupyter-widgets/controls",
            "_model_module_version": "1.5.0",
            "_model_name": "HTMLModel",
            "_view_count": null,
            "_view_module": "@jupyter-widgets/controls",
            "_view_module_version": "1.5.0",
            "_view_name": "HTMLView",
            "description": "",
            "description_tooltip": null,
            "layout": "IPY_MODEL_a3737fddd1624fb780c2c1e065b7aec2",
            "placeholder": "​",
            "style": "IPY_MODEL_67312b4cf2ac4e3488348858046c179d",
            "value": "100%"
          }
        },
        "eaf385e260c14b6ab4d82a2e6d4573b5": {
          "model_module": "@jupyter-widgets/controls",
          "model_name": "FloatProgressModel",
          "model_module_version": "1.5.0",
          "state": {
            "_dom_classes": [],
            "_model_module": "@jupyter-widgets/controls",
            "_model_module_version": "1.5.0",
            "_model_name": "FloatProgressModel",
            "_view_count": null,
            "_view_module": "@jupyter-widgets/controls",
            "_view_module_version": "1.5.0",
            "_view_name": "ProgressView",
            "bar_style": "success",
            "description": "",
            "description_tooltip": null,
            "layout": "IPY_MODEL_574677f0b7464aa7bac77ecbec597cd0",
            "max": 29515,
            "min": 0,
            "orientation": "horizontal",
            "style": "IPY_MODEL_15ab8ec072db448c89191ab2896e2ca7",
            "value": 29515
          }
        },
        "267cb1f06b0c451abd2f03d37e27a2be": {
          "model_module": "@jupyter-widgets/controls",
          "model_name": "HTMLModel",
          "model_module_version": "1.5.0",
          "state": {
            "_dom_classes": [],
            "_model_module": "@jupyter-widgets/controls",
            "_model_module_version": "1.5.0",
            "_model_name": "HTMLModel",
            "_view_count": null,
            "_view_module": "@jupyter-widgets/controls",
            "_view_module_version": "1.5.0",
            "_view_name": "HTMLView",
            "description": "",
            "description_tooltip": null,
            "layout": "IPY_MODEL_fc4a70ac13424f9687095e18ea879657",
            "placeholder": "​",
            "style": "IPY_MODEL_f8036939b5e44f90a766d9b4806a8c3a",
            "value": " 29515/29515 [00:00&lt;00:00, 294075.45it/s]"
          }
        },
        "0f2e7713350c4197a03ab399e7fccad6": {
          "model_module": "@jupyter-widgets/base",
          "model_name": "LayoutModel",
          "model_module_version": "1.2.0",
          "state": {
            "_model_module": "@jupyter-widgets/base",
            "_model_module_version": "1.2.0",
            "_model_name": "LayoutModel",
            "_view_count": null,
            "_view_module": "@jupyter-widgets/base",
            "_view_module_version": "1.2.0",
            "_view_name": "LayoutView",
            "align_content": null,
            "align_items": null,
            "align_self": null,
            "border": null,
            "bottom": null,
            "display": null,
            "flex": null,
            "flex_flow": null,
            "grid_area": null,
            "grid_auto_columns": null,
            "grid_auto_flow": null,
            "grid_auto_rows": null,
            "grid_column": null,
            "grid_gap": null,
            "grid_row": null,
            "grid_template_areas": null,
            "grid_template_columns": null,
            "grid_template_rows": null,
            "height": null,
            "justify_content": null,
            "justify_items": null,
            "left": null,
            "margin": null,
            "max_height": null,
            "max_width": null,
            "min_height": null,
            "min_width": null,
            "object_fit": null,
            "object_position": null,
            "order": null,
            "overflow": null,
            "overflow_x": null,
            "overflow_y": null,
            "padding": null,
            "right": null,
            "top": null,
            "visibility": null,
            "width": null
          }
        },
        "a3737fddd1624fb780c2c1e065b7aec2": {
          "model_module": "@jupyter-widgets/base",
          "model_name": "LayoutModel",
          "model_module_version": "1.2.0",
          "state": {
            "_model_module": "@jupyter-widgets/base",
            "_model_module_version": "1.2.0",
            "_model_name": "LayoutModel",
            "_view_count": null,
            "_view_module": "@jupyter-widgets/base",
            "_view_module_version": "1.2.0",
            "_view_name": "LayoutView",
            "align_content": null,
            "align_items": null,
            "align_self": null,
            "border": null,
            "bottom": null,
            "display": null,
            "flex": null,
            "flex_flow": null,
            "grid_area": null,
            "grid_auto_columns": null,
            "grid_auto_flow": null,
            "grid_auto_rows": null,
            "grid_column": null,
            "grid_gap": null,
            "grid_row": null,
            "grid_template_areas": null,
            "grid_template_columns": null,
            "grid_template_rows": null,
            "height": null,
            "justify_content": null,
            "justify_items": null,
            "left": null,
            "margin": null,
            "max_height": null,
            "max_width": null,
            "min_height": null,
            "min_width": null,
            "object_fit": null,
            "object_position": null,
            "order": null,
            "overflow": null,
            "overflow_x": null,
            "overflow_y": null,
            "padding": null,
            "right": null,
            "top": null,
            "visibility": null,
            "width": null
          }
        },
        "67312b4cf2ac4e3488348858046c179d": {
          "model_module": "@jupyter-widgets/controls",
          "model_name": "DescriptionStyleModel",
          "model_module_version": "1.5.0",
          "state": {
            "_model_module": "@jupyter-widgets/controls",
            "_model_module_version": "1.5.0",
            "_model_name": "DescriptionStyleModel",
            "_view_count": null,
            "_view_module": "@jupyter-widgets/base",
            "_view_module_version": "1.2.0",
            "_view_name": "StyleView",
            "description_width": ""
          }
        },
        "574677f0b7464aa7bac77ecbec597cd0": {
          "model_module": "@jupyter-widgets/base",
          "model_name": "LayoutModel",
          "model_module_version": "1.2.0",
          "state": {
            "_model_module": "@jupyter-widgets/base",
            "_model_module_version": "1.2.0",
            "_model_name": "LayoutModel",
            "_view_count": null,
            "_view_module": "@jupyter-widgets/base",
            "_view_module_version": "1.2.0",
            "_view_name": "LayoutView",
            "align_content": null,
            "align_items": null,
            "align_self": null,
            "border": null,
            "bottom": null,
            "display": null,
            "flex": null,
            "flex_flow": null,
            "grid_area": null,
            "grid_auto_columns": null,
            "grid_auto_flow": null,
            "grid_auto_rows": null,
            "grid_column": null,
            "grid_gap": null,
            "grid_row": null,
            "grid_template_areas": null,
            "grid_template_columns": null,
            "grid_template_rows": null,
            "height": null,
            "justify_content": null,
            "justify_items": null,
            "left": null,
            "margin": null,
            "max_height": null,
            "max_width": null,
            "min_height": null,
            "min_width": null,
            "object_fit": null,
            "object_position": null,
            "order": null,
            "overflow": null,
            "overflow_x": null,
            "overflow_y": null,
            "padding": null,
            "right": null,
            "top": null,
            "visibility": null,
            "width": null
          }
        },
        "15ab8ec072db448c89191ab2896e2ca7": {
          "model_module": "@jupyter-widgets/controls",
          "model_name": "ProgressStyleModel",
          "model_module_version": "1.5.0",
          "state": {
            "_model_module": "@jupyter-widgets/controls",
            "_model_module_version": "1.5.0",
            "_model_name": "ProgressStyleModel",
            "_view_count": null,
            "_view_module": "@jupyter-widgets/base",
            "_view_module_version": "1.2.0",
            "_view_name": "StyleView",
            "bar_color": null,
            "description_width": ""
          }
        },
        "fc4a70ac13424f9687095e18ea879657": {
          "model_module": "@jupyter-widgets/base",
          "model_name": "LayoutModel",
          "model_module_version": "1.2.0",
          "state": {
            "_model_module": "@jupyter-widgets/base",
            "_model_module_version": "1.2.0",
            "_model_name": "LayoutModel",
            "_view_count": null,
            "_view_module": "@jupyter-widgets/base",
            "_view_module_version": "1.2.0",
            "_view_name": "LayoutView",
            "align_content": null,
            "align_items": null,
            "align_self": null,
            "border": null,
            "bottom": null,
            "display": null,
            "flex": null,
            "flex_flow": null,
            "grid_area": null,
            "grid_auto_columns": null,
            "grid_auto_flow": null,
            "grid_auto_rows": null,
            "grid_column": null,
            "grid_gap": null,
            "grid_row": null,
            "grid_template_areas": null,
            "grid_template_columns": null,
            "grid_template_rows": null,
            "height": null,
            "justify_content": null,
            "justify_items": null,
            "left": null,
            "margin": null,
            "max_height": null,
            "max_width": null,
            "min_height": null,
            "min_width": null,
            "object_fit": null,
            "object_position": null,
            "order": null,
            "overflow": null,
            "overflow_x": null,
            "overflow_y": null,
            "padding": null,
            "right": null,
            "top": null,
            "visibility": null,
            "width": null
          }
        },
        "f8036939b5e44f90a766d9b4806a8c3a": {
          "model_module": "@jupyter-widgets/controls",
          "model_name": "DescriptionStyleModel",
          "model_module_version": "1.5.0",
          "state": {
            "_model_module": "@jupyter-widgets/controls",
            "_model_module_version": "1.5.0",
            "_model_name": "DescriptionStyleModel",
            "_view_count": null,
            "_view_module": "@jupyter-widgets/base",
            "_view_module_version": "1.2.0",
            "_view_name": "StyleView",
            "description_width": ""
          }
        },
        "0afaa95513aa463a86d64c4cec323cf4": {
          "model_module": "@jupyter-widgets/controls",
          "model_name": "HBoxModel",
          "model_module_version": "1.5.0",
          "state": {
            "_dom_classes": [],
            "_model_module": "@jupyter-widgets/controls",
            "_model_module_version": "1.5.0",
            "_model_name": "HBoxModel",
            "_view_count": null,
            "_view_module": "@jupyter-widgets/controls",
            "_view_module_version": "1.5.0",
            "_view_name": "HBoxView",
            "box_style": "",
            "children": [
              "IPY_MODEL_f926a67db7cf480ca4da103a54438cc9",
              "IPY_MODEL_57ae92d0c1ab488190fc9d08f81ae38b",
              "IPY_MODEL_9b26dbc3a1ca4dc48dd582d1aa02e6b8"
            ],
            "layout": "IPY_MODEL_90bd7bf048ca41e5af0026957b36c630"
          }
        },
        "f926a67db7cf480ca4da103a54438cc9": {
          "model_module": "@jupyter-widgets/controls",
          "model_name": "HTMLModel",
          "model_module_version": "1.5.0",
          "state": {
            "_dom_classes": [],
            "_model_module": "@jupyter-widgets/controls",
            "_model_module_version": "1.5.0",
            "_model_name": "HTMLModel",
            "_view_count": null,
            "_view_module": "@jupyter-widgets/controls",
            "_view_module_version": "1.5.0",
            "_view_name": "HTMLView",
            "description": "",
            "description_tooltip": null,
            "layout": "IPY_MODEL_f578ea984266406e87d3465bb38d77bb",
            "placeholder": "​",
            "style": "IPY_MODEL_5d6e7778bb52447d9803156a134439d1",
            "value": "100%"
          }
        },
        "57ae92d0c1ab488190fc9d08f81ae38b": {
          "model_module": "@jupyter-widgets/controls",
          "model_name": "FloatProgressModel",
          "model_module_version": "1.5.0",
          "state": {
            "_dom_classes": [],
            "_model_module": "@jupyter-widgets/controls",
            "_model_module_version": "1.5.0",
            "_model_name": "FloatProgressModel",
            "_view_count": null,
            "_view_module": "@jupyter-widgets/controls",
            "_view_module_version": "1.5.0",
            "_view_name": "ProgressView",
            "bar_style": "success",
            "description": "",
            "description_tooltip": null,
            "layout": "IPY_MODEL_03f04c7ff9834042a728f4fc5630e1f1",
            "max": 4422102,
            "min": 0,
            "orientation": "horizontal",
            "style": "IPY_MODEL_d9cc65e3d0a946a692e44294eae9c11b",
            "value": 4422102
          }
        },
        "9b26dbc3a1ca4dc48dd582d1aa02e6b8": {
          "model_module": "@jupyter-widgets/controls",
          "model_name": "HTMLModel",
          "model_module_version": "1.5.0",
          "state": {
            "_dom_classes": [],
            "_model_module": "@jupyter-widgets/controls",
            "_model_module_version": "1.5.0",
            "_model_name": "HTMLModel",
            "_view_count": null,
            "_view_module": "@jupyter-widgets/controls",
            "_view_module_version": "1.5.0",
            "_view_name": "HTMLView",
            "description": "",
            "description_tooltip": null,
            "layout": "IPY_MODEL_9a63a6c1dfe542aab777f7a21a0cf2bb",
            "placeholder": "​",
            "style": "IPY_MODEL_4a70a91dd612442e8e8046a3deddaf49",
            "value": " 4422102/4422102 [00:00&lt;00:00, 8797095.87it/s]"
          }
        },
        "90bd7bf048ca41e5af0026957b36c630": {
          "model_module": "@jupyter-widgets/base",
          "model_name": "LayoutModel",
          "model_module_version": "1.2.0",
          "state": {
            "_model_module": "@jupyter-widgets/base",
            "_model_module_version": "1.2.0",
            "_model_name": "LayoutModel",
            "_view_count": null,
            "_view_module": "@jupyter-widgets/base",
            "_view_module_version": "1.2.0",
            "_view_name": "LayoutView",
            "align_content": null,
            "align_items": null,
            "align_self": null,
            "border": null,
            "bottom": null,
            "display": null,
            "flex": null,
            "flex_flow": null,
            "grid_area": null,
            "grid_auto_columns": null,
            "grid_auto_flow": null,
            "grid_auto_rows": null,
            "grid_column": null,
            "grid_gap": null,
            "grid_row": null,
            "grid_template_areas": null,
            "grid_template_columns": null,
            "grid_template_rows": null,
            "height": null,
            "justify_content": null,
            "justify_items": null,
            "left": null,
            "margin": null,
            "max_height": null,
            "max_width": null,
            "min_height": null,
            "min_width": null,
            "object_fit": null,
            "object_position": null,
            "order": null,
            "overflow": null,
            "overflow_x": null,
            "overflow_y": null,
            "padding": null,
            "right": null,
            "top": null,
            "visibility": null,
            "width": null
          }
        },
        "f578ea984266406e87d3465bb38d77bb": {
          "model_module": "@jupyter-widgets/base",
          "model_name": "LayoutModel",
          "model_module_version": "1.2.0",
          "state": {
            "_model_module": "@jupyter-widgets/base",
            "_model_module_version": "1.2.0",
            "_model_name": "LayoutModel",
            "_view_count": null,
            "_view_module": "@jupyter-widgets/base",
            "_view_module_version": "1.2.0",
            "_view_name": "LayoutView",
            "align_content": null,
            "align_items": null,
            "align_self": null,
            "border": null,
            "bottom": null,
            "display": null,
            "flex": null,
            "flex_flow": null,
            "grid_area": null,
            "grid_auto_columns": null,
            "grid_auto_flow": null,
            "grid_auto_rows": null,
            "grid_column": null,
            "grid_gap": null,
            "grid_row": null,
            "grid_template_areas": null,
            "grid_template_columns": null,
            "grid_template_rows": null,
            "height": null,
            "justify_content": null,
            "justify_items": null,
            "left": null,
            "margin": null,
            "max_height": null,
            "max_width": null,
            "min_height": null,
            "min_width": null,
            "object_fit": null,
            "object_position": null,
            "order": null,
            "overflow": null,
            "overflow_x": null,
            "overflow_y": null,
            "padding": null,
            "right": null,
            "top": null,
            "visibility": null,
            "width": null
          }
        },
        "5d6e7778bb52447d9803156a134439d1": {
          "model_module": "@jupyter-widgets/controls",
          "model_name": "DescriptionStyleModel",
          "model_module_version": "1.5.0",
          "state": {
            "_model_module": "@jupyter-widgets/controls",
            "_model_module_version": "1.5.0",
            "_model_name": "DescriptionStyleModel",
            "_view_count": null,
            "_view_module": "@jupyter-widgets/base",
            "_view_module_version": "1.2.0",
            "_view_name": "StyleView",
            "description_width": ""
          }
        },
        "03f04c7ff9834042a728f4fc5630e1f1": {
          "model_module": "@jupyter-widgets/base",
          "model_name": "LayoutModel",
          "model_module_version": "1.2.0",
          "state": {
            "_model_module": "@jupyter-widgets/base",
            "_model_module_version": "1.2.0",
            "_model_name": "LayoutModel",
            "_view_count": null,
            "_view_module": "@jupyter-widgets/base",
            "_view_module_version": "1.2.0",
            "_view_name": "LayoutView",
            "align_content": null,
            "align_items": null,
            "align_self": null,
            "border": null,
            "bottom": null,
            "display": null,
            "flex": null,
            "flex_flow": null,
            "grid_area": null,
            "grid_auto_columns": null,
            "grid_auto_flow": null,
            "grid_auto_rows": null,
            "grid_column": null,
            "grid_gap": null,
            "grid_row": null,
            "grid_template_areas": null,
            "grid_template_columns": null,
            "grid_template_rows": null,
            "height": null,
            "justify_content": null,
            "justify_items": null,
            "left": null,
            "margin": null,
            "max_height": null,
            "max_width": null,
            "min_height": null,
            "min_width": null,
            "object_fit": null,
            "object_position": null,
            "order": null,
            "overflow": null,
            "overflow_x": null,
            "overflow_y": null,
            "padding": null,
            "right": null,
            "top": null,
            "visibility": null,
            "width": null
          }
        },
        "d9cc65e3d0a946a692e44294eae9c11b": {
          "model_module": "@jupyter-widgets/controls",
          "model_name": "ProgressStyleModel",
          "model_module_version": "1.5.0",
          "state": {
            "_model_module": "@jupyter-widgets/controls",
            "_model_module_version": "1.5.0",
            "_model_name": "ProgressStyleModel",
            "_view_count": null,
            "_view_module": "@jupyter-widgets/base",
            "_view_module_version": "1.2.0",
            "_view_name": "StyleView",
            "bar_color": null,
            "description_width": ""
          }
        },
        "9a63a6c1dfe542aab777f7a21a0cf2bb": {
          "model_module": "@jupyter-widgets/base",
          "model_name": "LayoutModel",
          "model_module_version": "1.2.0",
          "state": {
            "_model_module": "@jupyter-widgets/base",
            "_model_module_version": "1.2.0",
            "_model_name": "LayoutModel",
            "_view_count": null,
            "_view_module": "@jupyter-widgets/base",
            "_view_module_version": "1.2.0",
            "_view_name": "LayoutView",
            "align_content": null,
            "align_items": null,
            "align_self": null,
            "border": null,
            "bottom": null,
            "display": null,
            "flex": null,
            "flex_flow": null,
            "grid_area": null,
            "grid_auto_columns": null,
            "grid_auto_flow": null,
            "grid_auto_rows": null,
            "grid_column": null,
            "grid_gap": null,
            "grid_row": null,
            "grid_template_areas": null,
            "grid_template_columns": null,
            "grid_template_rows": null,
            "height": null,
            "justify_content": null,
            "justify_items": null,
            "left": null,
            "margin": null,
            "max_height": null,
            "max_width": null,
            "min_height": null,
            "min_width": null,
            "object_fit": null,
            "object_position": null,
            "order": null,
            "overflow": null,
            "overflow_x": null,
            "overflow_y": null,
            "padding": null,
            "right": null,
            "top": null,
            "visibility": null,
            "width": null
          }
        },
        "4a70a91dd612442e8e8046a3deddaf49": {
          "model_module": "@jupyter-widgets/controls",
          "model_name": "DescriptionStyleModel",
          "model_module_version": "1.5.0",
          "state": {
            "_model_module": "@jupyter-widgets/controls",
            "_model_module_version": "1.5.0",
            "_model_name": "DescriptionStyleModel",
            "_view_count": null,
            "_view_module": "@jupyter-widgets/base",
            "_view_module_version": "1.2.0",
            "_view_name": "StyleView",
            "description_width": ""
          }
        },
        "f4f630aa4c584e159468aa83d80f5bf4": {
          "model_module": "@jupyter-widgets/controls",
          "model_name": "HBoxModel",
          "model_module_version": "1.5.0",
          "state": {
            "_dom_classes": [],
            "_model_module": "@jupyter-widgets/controls",
            "_model_module_version": "1.5.0",
            "_model_name": "HBoxModel",
            "_view_count": null,
            "_view_module": "@jupyter-widgets/controls",
            "_view_module_version": "1.5.0",
            "_view_name": "HBoxView",
            "box_style": "",
            "children": [
              "IPY_MODEL_390803d3dd184396aac52119f80c4360",
              "IPY_MODEL_f49bcde01d864bbd92559e653de868fc",
              "IPY_MODEL_53a06fbce2084abda0bae91d5ac00f30"
            ],
            "layout": "IPY_MODEL_d3a02c03b8ed4c40a37c9337d15783c5"
          }
        },
        "390803d3dd184396aac52119f80c4360": {
          "model_module": "@jupyter-widgets/controls",
          "model_name": "HTMLModel",
          "model_module_version": "1.5.0",
          "state": {
            "_dom_classes": [],
            "_model_module": "@jupyter-widgets/controls",
            "_model_module_version": "1.5.0",
            "_model_name": "HTMLModel",
            "_view_count": null,
            "_view_module": "@jupyter-widgets/controls",
            "_view_module_version": "1.5.0",
            "_view_name": "HTMLView",
            "description": "",
            "description_tooltip": null,
            "layout": "IPY_MODEL_babac3045bf64ac892f3f78bb08acb17",
            "placeholder": "​",
            "style": "IPY_MODEL_638f493e5ca849e89ebffd0cd6754b00",
            "value": "100%"
          }
        },
        "f49bcde01d864bbd92559e653de868fc": {
          "model_module": "@jupyter-widgets/controls",
          "model_name": "FloatProgressModel",
          "model_module_version": "1.5.0",
          "state": {
            "_dom_classes": [],
            "_model_module": "@jupyter-widgets/controls",
            "_model_module_version": "1.5.0",
            "_model_name": "FloatProgressModel",
            "_view_count": null,
            "_view_module": "@jupyter-widgets/controls",
            "_view_module_version": "1.5.0",
            "_view_name": "ProgressView",
            "bar_style": "success",
            "description": "",
            "description_tooltip": null,
            "layout": "IPY_MODEL_73510d3b9ffd4509bae965703198a96f",
            "max": 5148,
            "min": 0,
            "orientation": "horizontal",
            "style": "IPY_MODEL_6b846794ede34a50894a85750c4b4222",
            "value": 5148
          }
        },
        "53a06fbce2084abda0bae91d5ac00f30": {
          "model_module": "@jupyter-widgets/controls",
          "model_name": "HTMLModel",
          "model_module_version": "1.5.0",
          "state": {
            "_dom_classes": [],
            "_model_module": "@jupyter-widgets/controls",
            "_model_module_version": "1.5.0",
            "_model_name": "HTMLModel",
            "_view_count": null,
            "_view_module": "@jupyter-widgets/controls",
            "_view_module_version": "1.5.0",
            "_view_name": "HTMLView",
            "description": "",
            "description_tooltip": null,
            "layout": "IPY_MODEL_a3602c874a8d4a4495034614e7ba67c6",
            "placeholder": "​",
            "style": "IPY_MODEL_2a9ee3ecdaa3493ab4a8b36b403acfaa",
            "value": " 5148/5148 [00:00&lt;00:00, 124700.57it/s]"
          }
        },
        "d3a02c03b8ed4c40a37c9337d15783c5": {
          "model_module": "@jupyter-widgets/base",
          "model_name": "LayoutModel",
          "model_module_version": "1.2.0",
          "state": {
            "_model_module": "@jupyter-widgets/base",
            "_model_module_version": "1.2.0",
            "_model_name": "LayoutModel",
            "_view_count": null,
            "_view_module": "@jupyter-widgets/base",
            "_view_module_version": "1.2.0",
            "_view_name": "LayoutView",
            "align_content": null,
            "align_items": null,
            "align_self": null,
            "border": null,
            "bottom": null,
            "display": null,
            "flex": null,
            "flex_flow": null,
            "grid_area": null,
            "grid_auto_columns": null,
            "grid_auto_flow": null,
            "grid_auto_rows": null,
            "grid_column": null,
            "grid_gap": null,
            "grid_row": null,
            "grid_template_areas": null,
            "grid_template_columns": null,
            "grid_template_rows": null,
            "height": null,
            "justify_content": null,
            "justify_items": null,
            "left": null,
            "margin": null,
            "max_height": null,
            "max_width": null,
            "min_height": null,
            "min_width": null,
            "object_fit": null,
            "object_position": null,
            "order": null,
            "overflow": null,
            "overflow_x": null,
            "overflow_y": null,
            "padding": null,
            "right": null,
            "top": null,
            "visibility": null,
            "width": null
          }
        },
        "babac3045bf64ac892f3f78bb08acb17": {
          "model_module": "@jupyter-widgets/base",
          "model_name": "LayoutModel",
          "model_module_version": "1.2.0",
          "state": {
            "_model_module": "@jupyter-widgets/base",
            "_model_module_version": "1.2.0",
            "_model_name": "LayoutModel",
            "_view_count": null,
            "_view_module": "@jupyter-widgets/base",
            "_view_module_version": "1.2.0",
            "_view_name": "LayoutView",
            "align_content": null,
            "align_items": null,
            "align_self": null,
            "border": null,
            "bottom": null,
            "display": null,
            "flex": null,
            "flex_flow": null,
            "grid_area": null,
            "grid_auto_columns": null,
            "grid_auto_flow": null,
            "grid_auto_rows": null,
            "grid_column": null,
            "grid_gap": null,
            "grid_row": null,
            "grid_template_areas": null,
            "grid_template_columns": null,
            "grid_template_rows": null,
            "height": null,
            "justify_content": null,
            "justify_items": null,
            "left": null,
            "margin": null,
            "max_height": null,
            "max_width": null,
            "min_height": null,
            "min_width": null,
            "object_fit": null,
            "object_position": null,
            "order": null,
            "overflow": null,
            "overflow_x": null,
            "overflow_y": null,
            "padding": null,
            "right": null,
            "top": null,
            "visibility": null,
            "width": null
          }
        },
        "638f493e5ca849e89ebffd0cd6754b00": {
          "model_module": "@jupyter-widgets/controls",
          "model_name": "DescriptionStyleModel",
          "model_module_version": "1.5.0",
          "state": {
            "_model_module": "@jupyter-widgets/controls",
            "_model_module_version": "1.5.0",
            "_model_name": "DescriptionStyleModel",
            "_view_count": null,
            "_view_module": "@jupyter-widgets/base",
            "_view_module_version": "1.2.0",
            "_view_name": "StyleView",
            "description_width": ""
          }
        },
        "73510d3b9ffd4509bae965703198a96f": {
          "model_module": "@jupyter-widgets/base",
          "model_name": "LayoutModel",
          "model_module_version": "1.2.0",
          "state": {
            "_model_module": "@jupyter-widgets/base",
            "_model_module_version": "1.2.0",
            "_model_name": "LayoutModel",
            "_view_count": null,
            "_view_module": "@jupyter-widgets/base",
            "_view_module_version": "1.2.0",
            "_view_name": "LayoutView",
            "align_content": null,
            "align_items": null,
            "align_self": null,
            "border": null,
            "bottom": null,
            "display": null,
            "flex": null,
            "flex_flow": null,
            "grid_area": null,
            "grid_auto_columns": null,
            "grid_auto_flow": null,
            "grid_auto_rows": null,
            "grid_column": null,
            "grid_gap": null,
            "grid_row": null,
            "grid_template_areas": null,
            "grid_template_columns": null,
            "grid_template_rows": null,
            "height": null,
            "justify_content": null,
            "justify_items": null,
            "left": null,
            "margin": null,
            "max_height": null,
            "max_width": null,
            "min_height": null,
            "min_width": null,
            "object_fit": null,
            "object_position": null,
            "order": null,
            "overflow": null,
            "overflow_x": null,
            "overflow_y": null,
            "padding": null,
            "right": null,
            "top": null,
            "visibility": null,
            "width": null
          }
        },
        "6b846794ede34a50894a85750c4b4222": {
          "model_module": "@jupyter-widgets/controls",
          "model_name": "ProgressStyleModel",
          "model_module_version": "1.5.0",
          "state": {
            "_model_module": "@jupyter-widgets/controls",
            "_model_module_version": "1.5.0",
            "_model_name": "ProgressStyleModel",
            "_view_count": null,
            "_view_module": "@jupyter-widgets/base",
            "_view_module_version": "1.2.0",
            "_view_name": "StyleView",
            "bar_color": null,
            "description_width": ""
          }
        },
        "a3602c874a8d4a4495034614e7ba67c6": {
          "model_module": "@jupyter-widgets/base",
          "model_name": "LayoutModel",
          "model_module_version": "1.2.0",
          "state": {
            "_model_module": "@jupyter-widgets/base",
            "_model_module_version": "1.2.0",
            "_model_name": "LayoutModel",
            "_view_count": null,
            "_view_module": "@jupyter-widgets/base",
            "_view_module_version": "1.2.0",
            "_view_name": "LayoutView",
            "align_content": null,
            "align_items": null,
            "align_self": null,
            "border": null,
            "bottom": null,
            "display": null,
            "flex": null,
            "flex_flow": null,
            "grid_area": null,
            "grid_auto_columns": null,
            "grid_auto_flow": null,
            "grid_auto_rows": null,
            "grid_column": null,
            "grid_gap": null,
            "grid_row": null,
            "grid_template_areas": null,
            "grid_template_columns": null,
            "grid_template_rows": null,
            "height": null,
            "justify_content": null,
            "justify_items": null,
            "left": null,
            "margin": null,
            "max_height": null,
            "max_width": null,
            "min_height": null,
            "min_width": null,
            "object_fit": null,
            "object_position": null,
            "order": null,
            "overflow": null,
            "overflow_x": null,
            "overflow_y": null,
            "padding": null,
            "right": null,
            "top": null,
            "visibility": null,
            "width": null
          }
        },
        "2a9ee3ecdaa3493ab4a8b36b403acfaa": {
          "model_module": "@jupyter-widgets/controls",
          "model_name": "DescriptionStyleModel",
          "model_module_version": "1.5.0",
          "state": {
            "_model_module": "@jupyter-widgets/controls",
            "_model_module_version": "1.5.0",
            "_model_name": "DescriptionStyleModel",
            "_view_count": null,
            "_view_module": "@jupyter-widgets/base",
            "_view_module_version": "1.2.0",
            "_view_name": "StyleView",
            "description_width": ""
          }
        }
      }
    }
  },
  "cells": [
    {
      "cell_type": "code",
      "execution_count": null,
      "metadata": {
        "id": "ackO9Y49ZOle"
      },
      "outputs": [],
      "source": [
        "import os\n",
        "import numpy as np\n",
        "import matplotlib.pyplot as plt\n",
        "import seaborn as sns\n",
        "import pandas as pd\n",
        "import torch\n",
        "import torch.nn as nn\n",
        "from torch.utils.data import DataLoader\n",
        "from torchvision import transforms, datasets\n",
        "import torch.nn.functional as F\n",
        "from sklearn.metrics import confusion_matrix\n",
        "from tqdm import tqdm"
      ]
    },
    {
      "cell_type": "code",
      "source": [
        "class Config:\n",
        "  def __init__(self):\n",
        "    self.ROOT_DATA_DIR = 'FashionMNISTDir'\n",
        "    self.EPOCH = 10\n",
        "    self.BATCH_SIZE = 32\n",
        "    self.LEARNING_RATE = 0.01\n",
        "    self.IMAGE_SIZE = (28,28)\n",
        "    self.DEVICE = 'cuda' if torch.cuda.is_available() else 'cpu'\n",
        "    print(f\"this notebook is using device: {self.DEVICE}\")\n",
        "    self.SEED = 2022\n",
        "\n",
        "config = Config()\n",
        "\n",
        "# it will show cuda when u will connect to runtime gpu"
      ],
      "metadata": {
        "colab": {
          "base_uri": "https://localhost:8080/"
        },
        "id": "9zAD-Ob0bedo",
        "outputId": "86695923-2839-4786-f626-d0aaadbc8ac6"
      },
      "execution_count": null,
      "outputs": [
        {
          "output_type": "stream",
          "name": "stdout",
          "text": [
            "this notebook is using device: cuda\n"
          ]
        }
      ]
    },
    {
      "cell_type": "code",
      "source": [
        "train_data = datasets.FashionMNIST(\n",
        "    root = config.ROOT_DATA_DIR,\n",
        "    train = True,\n",
        "    download = True,\n",
        "    transform = transforms.ToTensor()\n",
        ")\n",
        "\n",
        "test_data = datasets.FashionMNIST(\n",
        "    root = config.ROOT_DATA_DIR,\n",
        "    train = False,\n",
        "    download = True,\n",
        "    transform = transforms.ToTensor()\n",
        ")"
      ],
      "metadata": {
        "colab": {
          "base_uri": "https://localhost:8080/",
          "height": 471,
          "referenced_widgets": [
            "635c94226f704f35bc0a8a84dc5cae59",
            "0a0f34ac786748cf83954aeaee642994",
            "a6f806130a3044f68ab57028276de9d2",
            "d4630864eb44433e98021edb681cdec1",
            "8e4c1f0e7b5945a7bcd058a962075989",
            "b1963e99994c4816ae43f5492b77ddf0",
            "292c20a21f3d4e2cb4fdedfe20b75408",
            "1ac5ca04677e4bc4ba07eb2425ea0824",
            "59bb098e7a6044169256ab66322b8920",
            "38660dc93b384e63a2022fb5deeaf79e",
            "eb4ef717c89e48fe81a4837bfe5c4435",
            "13848cf6cb0544e082f6b92e7dedbefb",
            "640a9d01a46e45648be13807c0589d62",
            "eaf385e260c14b6ab4d82a2e6d4573b5",
            "267cb1f06b0c451abd2f03d37e27a2be",
            "0f2e7713350c4197a03ab399e7fccad6",
            "a3737fddd1624fb780c2c1e065b7aec2",
            "67312b4cf2ac4e3488348858046c179d",
            "574677f0b7464aa7bac77ecbec597cd0",
            "15ab8ec072db448c89191ab2896e2ca7",
            "fc4a70ac13424f9687095e18ea879657",
            "f8036939b5e44f90a766d9b4806a8c3a",
            "0afaa95513aa463a86d64c4cec323cf4",
            "f926a67db7cf480ca4da103a54438cc9",
            "57ae92d0c1ab488190fc9d08f81ae38b",
            "9b26dbc3a1ca4dc48dd582d1aa02e6b8",
            "90bd7bf048ca41e5af0026957b36c630",
            "f578ea984266406e87d3465bb38d77bb",
            "5d6e7778bb52447d9803156a134439d1",
            "03f04c7ff9834042a728f4fc5630e1f1",
            "d9cc65e3d0a946a692e44294eae9c11b",
            "9a63a6c1dfe542aab777f7a21a0cf2bb",
            "4a70a91dd612442e8e8046a3deddaf49",
            "f4f630aa4c584e159468aa83d80f5bf4",
            "390803d3dd184396aac52119f80c4360",
            "f49bcde01d864bbd92559e653de868fc",
            "53a06fbce2084abda0bae91d5ac00f30",
            "d3a02c03b8ed4c40a37c9337d15783c5",
            "babac3045bf64ac892f3f78bb08acb17",
            "638f493e5ca849e89ebffd0cd6754b00",
            "73510d3b9ffd4509bae965703198a96f",
            "6b846794ede34a50894a85750c4b4222",
            "a3602c874a8d4a4495034614e7ba67c6",
            "2a9ee3ecdaa3493ab4a8b36b403acfaa"
          ]
        },
        "id": "DxQauTShcxuT",
        "outputId": "7b0b5d4a-afd9-4f07-b784-3595a32dc2d2"
      },
      "execution_count": null,
      "outputs": [
        {
          "output_type": "stream",
          "name": "stdout",
          "text": [
            "Downloading http://fashion-mnist.s3-website.eu-central-1.amazonaws.com/train-images-idx3-ubyte.gz\n",
            "Downloading http://fashion-mnist.s3-website.eu-central-1.amazonaws.com/train-images-idx3-ubyte.gz to FashionMNISTDir/FashionMNIST/raw/train-images-idx3-ubyte.gz\n"
          ]
        },
        {
          "output_type": "display_data",
          "data": {
            "text/plain": [
              "  0%|          | 0/26421880 [00:00<?, ?it/s]"
            ],
            "application/vnd.jupyter.widget-view+json": {
              "version_major": 2,
              "version_minor": 0,
              "model_id": "635c94226f704f35bc0a8a84dc5cae59"
            }
          },
          "metadata": {}
        },
        {
          "output_type": "stream",
          "name": "stdout",
          "text": [
            "Extracting FashionMNISTDir/FashionMNIST/raw/train-images-idx3-ubyte.gz to FashionMNISTDir/FashionMNIST/raw\n",
            "\n",
            "Downloading http://fashion-mnist.s3-website.eu-central-1.amazonaws.com/train-labels-idx1-ubyte.gz\n",
            "Downloading http://fashion-mnist.s3-website.eu-central-1.amazonaws.com/train-labels-idx1-ubyte.gz to FashionMNISTDir/FashionMNIST/raw/train-labels-idx1-ubyte.gz\n"
          ]
        },
        {
          "output_type": "display_data",
          "data": {
            "text/plain": [
              "  0%|          | 0/29515 [00:00<?, ?it/s]"
            ],
            "application/vnd.jupyter.widget-view+json": {
              "version_major": 2,
              "version_minor": 0,
              "model_id": "13848cf6cb0544e082f6b92e7dedbefb"
            }
          },
          "metadata": {}
        },
        {
          "output_type": "stream",
          "name": "stdout",
          "text": [
            "Extracting FashionMNISTDir/FashionMNIST/raw/train-labels-idx1-ubyte.gz to FashionMNISTDir/FashionMNIST/raw\n",
            "\n",
            "Downloading http://fashion-mnist.s3-website.eu-central-1.amazonaws.com/t10k-images-idx3-ubyte.gz\n",
            "Downloading http://fashion-mnist.s3-website.eu-central-1.amazonaws.com/t10k-images-idx3-ubyte.gz to FashionMNISTDir/FashionMNIST/raw/t10k-images-idx3-ubyte.gz\n"
          ]
        },
        {
          "output_type": "display_data",
          "data": {
            "text/plain": [
              "  0%|          | 0/4422102 [00:00<?, ?it/s]"
            ],
            "application/vnd.jupyter.widget-view+json": {
              "version_major": 2,
              "version_minor": 0,
              "model_id": "0afaa95513aa463a86d64c4cec323cf4"
            }
          },
          "metadata": {}
        },
        {
          "output_type": "stream",
          "name": "stdout",
          "text": [
            "Extracting FashionMNISTDir/FashionMNIST/raw/t10k-images-idx3-ubyte.gz to FashionMNISTDir/FashionMNIST/raw\n",
            "\n",
            "Downloading http://fashion-mnist.s3-website.eu-central-1.amazonaws.com/t10k-labels-idx1-ubyte.gz\n",
            "Downloading http://fashion-mnist.s3-website.eu-central-1.amazonaws.com/t10k-labels-idx1-ubyte.gz to FashionMNISTDir/FashionMNIST/raw/t10k-labels-idx1-ubyte.gz\n"
          ]
        },
        {
          "output_type": "display_data",
          "data": {
            "text/plain": [
              "  0%|          | 0/5148 [00:00<?, ?it/s]"
            ],
            "application/vnd.jupyter.widget-view+json": {
              "version_major": 2,
              "version_minor": 0,
              "model_id": "f4f630aa4c584e159468aa83d80f5bf4"
            }
          },
          "metadata": {}
        },
        {
          "output_type": "stream",
          "name": "stdout",
          "text": [
            "Extracting FashionMNISTDir/FashionMNIST/raw/t10k-labels-idx1-ubyte.gz to FashionMNISTDir/FashionMNIST/raw\n",
            "\n"
          ]
        }
      ]
    },
    {
      "cell_type": "code",
      "source": [
        "train_data.data.shape"
      ],
      "metadata": {
        "colab": {
          "base_uri": "https://localhost:8080/"
        },
        "id": "wZCJ5a0SdVVn",
        "outputId": "0a225195-7de7-4b35-9297-a437ed77acb0"
      },
      "execution_count": null,
      "outputs": [
        {
          "output_type": "execute_result",
          "data": {
            "text/plain": [
              "torch.Size([60000, 28, 28])"
            ]
          },
          "metadata": {},
          "execution_count": 4
        }
      ]
    },
    {
      "cell_type": "code",
      "source": [
        "test_data.data.shape"
      ],
      "metadata": {
        "colab": {
          "base_uri": "https://localhost:8080/"
        },
        "id": "I6YuvnPZdcc_",
        "outputId": "6445d876-5e0c-4eee-fdd7-5f20d7c6b1b2"
      },
      "execution_count": null,
      "outputs": [
        {
          "output_type": "execute_result",
          "data": {
            "text/plain": [
              "torch.Size([10000, 28, 28])"
            ]
          },
          "metadata": {},
          "execution_count": 5
        }
      ]
    },
    {
      "cell_type": "code",
      "source": [
        "train_data.class_to_idx"
      ],
      "metadata": {
        "colab": {
          "base_uri": "https://localhost:8080/"
        },
        "id": "66kjKX13dj-y",
        "outputId": "c739348c-171c-4bb4-eb73-375d7fd6be8a"
      },
      "execution_count": null,
      "outputs": [
        {
          "output_type": "execute_result",
          "data": {
            "text/plain": [
              "{'T-shirt/top': 0,\n",
              " 'Trouser': 1,\n",
              " 'Pullover': 2,\n",
              " 'Dress': 3,\n",
              " 'Coat': 4,\n",
              " 'Sandal': 5,\n",
              " 'Shirt': 6,\n",
              " 'Sneaker': 7,\n",
              " 'Bag': 8,\n",
              " 'Ankle boot': 9}"
            ]
          },
          "metadata": {},
          "execution_count": 6
        }
      ]
    },
    {
      "cell_type": "code",
      "source": [
        "train_data.targets"
      ],
      "metadata": {
        "colab": {
          "base_uri": "https://localhost:8080/"
        },
        "id": "2rD7c8KtdoGY",
        "outputId": "15c93b06-e7e7-44f8-b0d5-5808469948a5"
      },
      "execution_count": null,
      "outputs": [
        {
          "output_type": "execute_result",
          "data": {
            "text/plain": [
              "tensor([9, 0, 0,  ..., 3, 0, 5])"
            ]
          },
          "metadata": {},
          "execution_count": 7
        }
      ]
    },
    {
      "cell_type": "code",
      "source": [
        "given_label_map=train_data.class_to_idx\n",
        "given_label_map"
      ],
      "metadata": {
        "colab": {
          "base_uri": "https://localhost:8080/"
        },
        "id": "6ieC6iMPd0ai",
        "outputId": "9f2bd7d8-6805-4cbc-9e66-822e782b2b88"
      },
      "execution_count": null,
      "outputs": [
        {
          "output_type": "execute_result",
          "data": {
            "text/plain": [
              "{'T-shirt/top': 0,\n",
              " 'Trouser': 1,\n",
              " 'Pullover': 2,\n",
              " 'Dress': 3,\n",
              " 'Coat': 4,\n",
              " 'Sandal': 5,\n",
              " 'Shirt': 6,\n",
              " 'Sneaker': 7,\n",
              " 'Bag': 8,\n",
              " 'Ankle boot': 9}"
            ]
          },
          "metadata": {},
          "execution_count": 8
        }
      ]
    },
    {
      "cell_type": "code",
      "source": [
        "label_map={val: key for key , val in given_label_map.items()}\n",
        "label_map"
      ],
      "metadata": {
        "colab": {
          "base_uri": "https://localhost:8080/"
        },
        "id": "9qpky3yfd6DB",
        "outputId": "1e70b32b-8a09-4557-b0ee-3b957d09fffb"
      },
      "execution_count": null,
      "outputs": [
        {
          "output_type": "execute_result",
          "data": {
            "text/plain": [
              "{0: 'T-shirt/top',\n",
              " 1: 'Trouser',\n",
              " 2: 'Pullover',\n",
              " 3: 'Dress',\n",
              " 4: 'Coat',\n",
              " 5: 'Sandal',\n",
              " 6: 'Shirt',\n",
              " 7: 'Sneaker',\n",
              " 8: 'Bag',\n",
              " 9: 'Ankle boot'}"
            ]
          },
          "metadata": {},
          "execution_count": 9
        }
      ]
    },
    {
      "cell_type": "markdown",
      "source": [
        "Visualize one of the samples"
      ],
      "metadata": {
        "id": "y0LikzzfoylZ"
      }
    },
    {
      "cell_type": "code",
      "source": [
        "def view_sample_img(data, idx, label_map):\n",
        "  plt.imshow(data.data[idx], cmap = 'gray')\n",
        "  plt.axis('off')\n",
        "\n",
        "view_sample_img(train_data, 7, label_map)"
      ],
      "metadata": {
        "id": "JF10t4-1eZy2",
        "colab": {
          "base_uri": "https://localhost:8080/",
          "height": 248
        },
        "outputId": "4af54cf6-03d3-4ab5-bbb0-fe4973eb2017"
      },
      "execution_count": null,
      "outputs": [
        {
          "output_type": "display_data",
          "data": {
            "text/plain": [
              "<Figure size 432x288 with 1 Axes>"
            ],
            "image/png": "[encoded data removed]"
          },
          "metadata": {
            "needs_background": "light"
          }
        }
      ]
    },
    {
      "cell_type": "markdown",
      "source": [
        "Create the dataloader"
      ],
      "metadata": {
        "id": "8To6lKOOqbUo"
      }
    },
    {
      "cell_type": "code",
      "source": [
        "train_data_loader = DataLoader(\n",
        "    dataset = train_data,\n",
        "    batch_size  = config.BATCH_SIZE,\n",
        "    shuffle= True\n",
        ")\n",
        "\n",
        "test_data_loader = DataLoader(\n",
        "    dataset = test_data,\n",
        "    batch_size = config.BATCH_SIZE,\n",
        "    shuffle = False\n",
        ")"
      ],
      "metadata": {
        "id": "yTeWpjEoptZy"
      },
      "execution_count": null,
      "outputs": []
    },
    {
      "cell_type": "code",
      "source": [
        "for images, labels in train_data_loader:\n",
        "  print(images.shape)\n",
        "  print(labels.shape)\n",
        "  break"
      ],
      "metadata": {
        "colab": {
          "base_uri": "https://localhost:8080/"
        },
        "id": "KJYWMq5LrCRs",
        "outputId": "3b53af42-2d5b-4ae6-fa5d-c2875cd38379"
      },
      "execution_count": null,
      "outputs": [
        {
          "output_type": "stream",
          "name": "stdout",
          "text": [
            "torch.Size([32, 1, 28, 28])\n",
            "torch.Size([32])\n"
          ]
        }
      ]
    },
    {
      "cell_type": "code",
      "source": [
        "images[0].shape"
      ],
      "metadata": {
        "colab": {
          "base_uri": "https://localhost:8080/"
        },
        "id": "rQc_kIkirluv",
        "outputId": "8425f45d-5c63-4402-e6d1-16eafa49254b"
      },
      "execution_count": null,
      "outputs": [
        {
          "output_type": "execute_result",
          "data": {
            "text/plain": [
              "torch.Size([1, 28, 28])"
            ]
          },
          "metadata": {},
          "execution_count": 18
        }
      ]
    },
    {
      "cell_type": "code",
      "source": [
        "images[0].squeeze().shape"
      ],
      "metadata": {
        "colab": {
          "base_uri": "https://localhost:8080/"
        },
        "id": "3n_PbuTMrogA",
        "outputId": "ef8d3765-ae9d-493e-8d6b-0d11bccef30e"
      },
      "execution_count": null,
      "outputs": [
        {
          "output_type": "execute_result",
          "data": {
            "text/plain": [
              "torch.Size([28, 28])"
            ]
          },
          "metadata": {},
          "execution_count": 19
        }
      ]
    },
    {
      "cell_type": "code",
      "source": [
        "images[0].squeeze().numpy()"
      ],
      "metadata": {
        "colab": {
          "base_uri": "https://localhost:8080/"
        },
        "id": "ZGZwNl3RrqOs",
        "outputId": "49d6e4fc-a6a0-48a8-829b-7fe03e79530c"
      },
      "execution_count": null,
      "outputs": [
        {
          "output_type": "execute_result",
          "data": {
            "text/plain": [
              "array([[0.        , 0.        , 0.00392157, 0.        , 0.        ,\n",
              "        0.00392157, 0.        , 0.        , 0.        , 0.1882353 ,\n",
              "        0.54509807, 0.7921569 , 0.80784315, 0.8509804 , 0.84313726,\n",
              "        0.8745098 , 0.8980392 , 0.7294118 , 0.35686275, 0.        ,\n",
              "        0.        , 0.        , 0.        , 0.        , 0.00392157,\n",
              "        0.        , 0.        , 0.        ],\n",
              "       [0.        , 0.        , 0.        , 0.        , 0.        ,\n",
              "        0.        , 0.1764706 , 0.62352943, 0.8509804 , 0.93333334,\n",
              "        0.8784314 , 0.8392157 , 0.8980392 , 0.92941177, 0.95686275,\n",
              "        0.9490196 , 0.8117647 , 0.8156863 , 0.9137255 , 0.93333334,\n",
              "        0.74509805, 0.34117648, 0.        , 0.        , 0.00392157,\n",
              "        0.        , 0.        , 0.        ],\n",
              "       [0.        , 0.        , 0.        , 0.        , 0.        ,\n",
              "        0.41568628, 0.84313726, 0.827451  , 0.7764706 , 0.7294118 ,\n",
              "        0.74509805, 0.7411765 , 0.7411765 , 0.74509805, 0.74509805,\n",
              "        0.70980394, 0.7176471 , 0.7529412 , 0.72156864, 0.75686276,\n",
              "        0.7921569 , 0.85882354, 0.654902  , 0.        , 0.        ,\n",
              "        0.        , 0.        , 0.        ],\n",
              "       [0.        , 0.        , 0.        , 0.        , 0.02352941,\n",
              "        0.75686276, 0.7607843 , 0.7411765 , 0.7411765 , 0.76862746,\n",
              "        0.7490196 , 0.7607843 , 0.76862746, 0.74509805, 0.74509805,\n",
              "        0.7490196 , 0.7647059 , 0.75686276, 0.7529412 , 0.7411765 ,\n",
              "        0.73333335, 0.73333335, 0.8156863 , 0.32156864, 0.        ,\n",
              "        0.        , 0.        , 0.        ],\n",
              "       [0.        , 0.        , 0.00784314, 0.        , 0.48235294,\n",
              "        0.83137256, 0.7647059 , 0.73333335, 0.77254903, 0.7411765 ,\n",
              "        0.7411765 , 0.7176471 , 0.7176471 , 0.72156864, 0.7176471 ,\n",
              "        0.72156864, 0.7137255 , 0.7176471 , 0.7607843 , 0.75686276,\n",
              "        0.7411765 , 0.73333335, 0.7764706 , 0.6862745 , 0.        ,\n",
              "        0.        , 0.        , 0.        ],\n",
              "       [0.        , 0.        , 0.        , 0.        , 0.7921569 ,\n",
              "        0.8       , 0.8039216 , 0.7607843 , 0.8117647 , 0.8117647 ,\n",
              "        0.8352941 , 0.7882353 , 0.8117647 , 0.8156863 , 0.8156863 ,\n",
              "        0.8156863 , 0.827451  , 0.79607844, 0.7607843 , 0.8392157 ,\n",
              "        0.78431374, 0.7254902 , 0.7882353 , 0.85882354, 0.00392157,\n",
              "        0.        , 0.        , 0.        ],\n",
              "       [0.        , 0.        , 0.        , 0.10588235, 0.90588236,\n",
              "        0.7529412 , 0.8862745 , 0.7647059 , 0.84313726, 0.7254902 ,\n",
              "        0.74509805, 0.77254903, 0.7647059 , 0.7411765 , 0.7529412 ,\n",
              "        0.76862746, 0.78431374, 0.75686276, 0.70980394, 0.79607844,\n",
              "        0.7294118 , 0.7529412 , 0.76862746, 0.7921569 , 0.2509804 ,\n",
              "        0.        , 0.        , 0.        ],\n",
              "       [0.        , 0.        , 0.        , 0.42352942, 0.80784315,\n",
              "        0.73333335, 0.88235295, 0.80784315, 0.7529412 , 0.8627451 ,\n",
              "        0.81960785, 0.6862745 , 0.7254902 , 0.73333335, 0.7294118 ,\n",
              "        0.7294118 , 0.6901961 , 0.8039216 , 0.84313726, 0.70980394,\n",
              "        0.7019608 , 0.8156863 , 0.76862746, 0.76862746, 0.5019608 ,\n",
              "        0.        , 0.        , 0.        ],\n",
              "       [0.        , 0.        , 0.        , 0.7019608 , 0.76862746,\n",
              "        0.7411765 , 0.79607844, 0.92941177, 0.72156864, 0.8       ,\n",
              "        0.76862746, 0.74509805, 0.74509805, 0.73333335, 0.74509805,\n",
              "        0.74509805, 0.7490196 , 0.70980394, 0.80784315, 0.7019608 ,\n",
              "        0.7137255 , 0.8509804 , 0.7647059 , 0.7529412 , 0.7019608 ,\n",
              "        0.        , 0.        , 0.        ],\n",
              "       [0.        , 0.        , 0.14509805, 0.8039216 , 0.8039216 ,\n",
              "        0.7764706 , 0.7529412 , 0.90588236, 0.85490197, 0.8352941 ,\n",
              "        0.8156863 , 0.9137255 , 0.7607843 , 0.74509805, 0.7411765 ,\n",
              "        0.8156863 , 0.9411765 , 0.7647059 , 0.8392157 , 0.7529412 ,\n",
              "        0.8352941 , 0.8392157 , 0.7411765 , 0.7529412 , 0.78431374,\n",
              "        0.10980392, 0.        , 0.        ],\n",
              "       [0.        , 0.        , 0.05098039, 0.39607844, 0.627451  ,\n",
              "        0.85490197, 0.92156863, 0.99607843, 0.8627451 , 0.8352941 ,\n",
              "        0.84705883, 0.9882353 , 0.77254903, 0.78431374, 0.7607843 ,\n",
              "        0.78431374, 0.972549  , 0.76862746, 0.7764706 , 0.7882353 ,\n",
              "        0.56078434, 0.99215686, 0.8039216 , 0.7019608 , 0.6392157 ,\n",
              "        0.07450981, 0.        , 0.        ],\n",
              "       [0.        , 0.        , 0.        , 0.        , 0.        ,\n",
              "        0.        , 0.10980392, 0.29803923, 0.92941177, 0.84705883,\n",
              "        0.7411765 , 0.76862746, 0.73333335, 0.8039216 , 0.78431374,\n",
              "        0.7254902 , 0.73333335, 0.7411765 , 0.75686276, 0.8901961 ,\n",
              "        0.19607843, 0.07450981, 0.2       , 0.        , 0.        ,\n",
              "        0.        , 0.        , 0.        ],\n",
              "       [0.        , 0.        , 0.00784314, 0.01568628, 0.        ,\n",
              "        0.        , 0.        , 0.        , 0.8980392 , 0.84313726,\n",
              "        0.77254903, 0.76862746, 0.77254903, 0.75686276, 0.75686276,\n",
              "        0.7647059 , 0.7490196 , 0.7647059 , 0.77254903, 0.85882354,\n",
              "        0.04705882, 0.        , 0.        , 0.        , 0.        ,\n",
              "        0.00784314, 0.        , 0.        ],\n",
              "       [0.        , 0.        , 0.        , 0.        , 0.        ,\n",
              "        0.00392157, 0.        , 0.        , 0.8156863 , 0.83137256,\n",
              "        0.76862746, 0.7764706 , 0.75686276, 0.7647059 , 0.7607843 ,\n",
              "        0.75686276, 0.75686276, 0.7607843 , 0.7647059 , 0.76862746,\n",
              "        0.        , 0.        , 0.01568628, 0.00784314, 0.00392157,\n",
              "        0.        , 0.        , 0.        ],\n",
              "       [0.        , 0.        , 0.        , 0.00392157, 0.        ,\n",
              "        0.00784314, 0.        , 0.        , 0.85490197, 0.84313726,\n",
              "        0.77254903, 0.7607843 , 0.75686276, 0.7647059 , 0.75686276,\n",
              "        0.7607843 , 0.7490196 , 0.7490196 , 0.7921569 , 0.7647059 ,\n",
              "        0.        , 0.        , 0.00392157, 0.00392157, 0.00392157,\n",
              "        0.        , 0.        , 0.        ],\n",
              "       [0.        , 0.        , 0.        , 0.        , 0.        ,\n",
              "        0.01176471, 0.        , 0.02352941, 0.8784314 , 0.8156863 ,\n",
              "        0.8039216 , 0.7529412 , 0.7607843 , 0.7647059 , 0.75686276,\n",
              "        0.7647059 , 0.7411765 , 0.78431374, 0.8117647 , 0.7254902 ,\n",
              "        0.        , 0.        , 0.00784314, 0.        , 0.        ,\n",
              "        0.        , 0.        , 0.        ],\n",
              "       [0.        , 0.        , 0.        , 0.        , 0.        ,\n",
              "        0.00784314, 0.        , 0.05490196, 0.8901961 , 0.8039216 ,\n",
              "        0.77254903, 0.75686276, 0.76862746, 0.7764706 , 0.7529412 ,\n",
              "        0.76862746, 0.73333335, 0.79607844, 0.7764706 , 0.7529412 ,\n",
              "        0.        , 0.        , 0.00784314, 0.00392157, 0.        ,\n",
              "        0.        , 0.        , 0.        ],\n",
              "       [0.        , 0.        , 0.        , 0.        , 0.        ,\n",
              "        0.00784314, 0.        , 0.04705882, 0.9137255 , 0.7921569 ,\n",
              "        0.8352941 , 0.75686276, 0.78431374, 0.76862746, 0.75686276,\n",
              "        0.74509805, 0.7882353 , 0.78431374, 0.74509805, 0.8117647 ,\n",
              "        0.00392157, 0.        , 0.00784314, 0.        , 0.        ,\n",
              "        0.        , 0.        , 0.        ],\n",
              "       [0.        , 0.        , 0.        , 0.00392157, 0.        ,\n",
              "        0.01176471, 0.        , 0.03137255, 0.8862745 , 0.7647059 ,\n",
              "        0.8745098 , 0.81960785, 0.74509805, 0.7921569 , 0.7647059 ,\n",
              "        0.75686276, 0.85490197, 0.74509805, 0.73333335, 0.85882354,\n",
              "        0.03529412, 0.        , 0.01176471, 0.        , 0.        ,\n",
              "        0.        , 0.        , 0.        ],\n",
              "       [0.        , 0.        , 0.        , 0.00392157, 0.        ,\n",
              "        0.01176471, 0.        , 0.03137255, 0.90588236, 0.77254903,\n",
              "        0.7764706 , 0.89411765, 0.7607843 , 0.7254902 , 0.7529412 ,\n",
              "        0.8352941 , 0.79607844, 0.74509805, 0.73333335, 0.85882354,\n",
              "        0.07843138, 0.        , 0.01568628, 0.        , 0.        ,\n",
              "        0.        , 0.        , 0.        ],\n",
              "       [0.        , 0.        , 0.00392157, 0.00392157, 0.        ,\n",
              "        0.01568628, 0.        , 0.0627451 , 0.9254902 , 0.7882353 ,\n",
              "        0.7529412 , 0.7921569 , 0.9607843 , 0.81960785, 0.8901961 ,\n",
              "        0.84313726, 0.72156864, 0.7764706 , 0.73333335, 0.8862745 ,\n",
              "        0.16862746, 0.        , 0.01960784, 0.        , 0.        ,\n",
              "        0.        , 0.        , 0.        ],\n",
              "       [0.        , 0.        , 0.        , 0.        , 0.        ,\n",
              "        0.01960784, 0.        , 0.14117648, 0.81960785, 0.7882353 ,\n",
              "        0.7882353 , 0.79607844, 0.8980392 , 0.8039216 , 0.827451  ,\n",
              "        0.87058824, 0.7607843 , 0.78431374, 0.7490196 , 0.7607843 ,\n",
              "        0.27058825, 0.        , 0.00392157, 0.        , 0.        ,\n",
              "        0.        , 0.        , 0.        ],\n",
              "       [0.        , 0.        , 0.        , 0.        , 0.        ,\n",
              "        0.01568628, 0.        , 0.20784314, 0.8392157 , 0.7882353 ,\n",
              "        0.7921569 , 0.7921569 , 0.7529412 , 0.74509805, 0.7529412 ,\n",
              "        0.7529412 , 0.76862746, 0.7764706 , 0.7411765 , 0.78431374,\n",
              "        0.39607844, 0.        , 0.        , 0.        , 0.        ,\n",
              "        0.        , 0.        , 0.        ],\n",
              "       [0.        , 0.        , 0.        , 0.        , 0.        ,\n",
              "        0.00784314, 0.        , 0.28235295, 0.8352941 , 0.7647059 ,\n",
              "        0.79607844, 0.7921569 , 0.7882353 , 0.7764706 , 0.7764706 ,\n",
              "        0.78431374, 0.78431374, 0.7647059 , 0.7490196 , 0.7882353 ,\n",
              "        0.47843137, 0.        , 0.        , 0.00392157, 0.00392157,\n",
              "        0.        , 0.        , 0.        ],\n",
              "       [0.        , 0.        , 0.        , 0.        , 0.00392157,\n",
              "        0.00784314, 0.        , 0.3254902 , 0.83137256, 0.7647059 ,\n",
              "        0.7921569 , 0.78431374, 0.7882353 , 0.7882353 , 0.77254903,\n",
              "        0.76862746, 0.78431374, 0.7882353 , 0.7294118 , 0.7764706 ,\n",
              "        0.57254905, 0.        , 0.        , 0.00392157, 0.00392157,\n",
              "        0.        , 0.        , 0.        ],\n",
              "       [0.        , 0.        , 0.        , 0.        , 0.        ,\n",
              "        0.00784314, 0.        , 0.35686275, 0.827451  , 0.75686276,\n",
              "        0.77254903, 0.77254903, 0.77254903, 0.7764706 , 0.76862746,\n",
              "        0.7607843 , 0.7607843 , 0.7647059 , 0.7490196 , 0.7647059 ,\n",
              "        0.6313726 , 0.        , 0.        , 0.00392157, 0.00392157,\n",
              "        0.        , 0.        , 0.        ],\n",
              "       [0.        , 0.        , 0.        , 0.        , 0.00392157,\n",
              "        0.01176471, 0.        , 0.45882353, 0.89411765, 0.8       ,\n",
              "        0.8509804 , 0.8352941 , 0.81960785, 0.80784315, 0.79607844,\n",
              "        0.7921569 , 0.8039216 , 0.84313726, 0.8509804 , 0.81960785,\n",
              "        0.7921569 , 0.        , 0.        , 0.00392157, 0.        ,\n",
              "        0.        , 0.        , 0.        ],\n",
              "       [0.        , 0.        , 0.        , 0.        , 0.        ,\n",
              "        0.01568628, 0.        , 0.2       , 0.627451  , 0.59607846,\n",
              "        0.6784314 , 0.69803923, 0.72156864, 0.7529412 , 0.75686276,\n",
              "        0.72156864, 0.68235296, 0.627451  , 0.56078434, 0.53333336,\n",
              "        0.2784314 , 0.        , 0.        , 0.00392157, 0.        ,\n",
              "        0.        , 0.        , 0.        ]], dtype=float32)"
            ]
          },
          "metadata": {},
          "execution_count": 20
        }
      ]
    },
    {
      "cell_type": "code",
      "source": [
        "plt.imshow(images[1].squeeze(), cmap = 'gray')"
      ],
      "metadata": {
        "colab": {
          "base_uri": "https://localhost:8080/",
          "height": 282
        },
        "id": "loHrzMY8rs1-",
        "outputId": "a4e6151d-031b-470f-cf4c-2126ca63ab41"
      },
      "execution_count": null,
      "outputs": [
        {
          "output_type": "execute_result",
          "data": {
            "text/plain": [
              "<matplotlib.image.AxesImage at 0x7f08568532d0>"
            ]
          },
          "metadata": {},
          "execution_count": 24
        },
        {
          "output_type": "display_data",
          "data": {
            "text/plain": [
              "<Figure size 432x288 with 1 Axes>"
            ],
            "image/png": "[encoded data removed]"
          },
          "metadata": {
            "needs_background": "light"
          }
        }
      ]
    },
    {
      "cell_type": "code",
      "source": [
        "plt.imshow(images[4].squeeze(), cmap = 'gray')"
      ],
      "metadata": {
        "colab": {
          "base_uri": "https://localhost:8080/",
          "height": 282
        },
        "id": "Aw98btPYr43e",
        "outputId": "ff1afbaf-0ffa-4573-b393-99629b24b3b0"
      },
      "execution_count": null,
      "outputs": [
        {
          "output_type": "execute_result",
          "data": {
            "text/plain": [
              "<matplotlib.image.AxesImage at 0x7f08567bb810>"
            ]
          },
          "metadata": {},
          "execution_count": 25
        },
        {
          "output_type": "display_data",
          "data": {
            "text/plain": [
              "<Figure size 432x288 with 1 Axes>"
            ],
            "image/png": "[encoded data removed]"
          },
          "metadata": {
            "needs_background": "light"
          }
        }
      ]
    },
    {
      "cell_type": "code",
      "source": [
        "images[4].shape, images[0].squeeze().shape, images[0].unsqueeze(dim=1).shape"
      ],
      "metadata": {
        "colab": {
          "base_uri": "https://localhost:8080/"
        },
        "id": "tedjB5yhsGmB",
        "outputId": "d9eff2b9-0cf0-454d-8d7a-841fac3b5b9c"
      },
      "execution_count": null,
      "outputs": [
        {
          "output_type": "execute_result",
          "data": {
            "text/plain": [
              "(torch.Size([1, 28, 28]), torch.Size([28, 28]), torch.Size([1, 1, 28, 28]))"
            ]
          },
          "metadata": {},
          "execution_count": 26
        }
      ]
    },
    {
      "cell_type": "code",
      "source": [
        "images[0][0].shape"
      ],
      "metadata": {
        "id": "sWr_5HfCskul",
        "outputId": "0578833f-bbb1-4d91-d65b-8b2a17181977",
        "colab": {
          "base_uri": "https://localhost:8080/"
        }
      },
      "execution_count": null,
      "outputs": [
        {
          "output_type": "execute_result",
          "data": {
            "text/plain": [
              "torch.Size([28, 28])"
            ]
          },
          "metadata": {},
          "execution_count": 27
        }
      ]
    },
    {
      "cell_type": "code",
      "source": [
        "images[0].squeeze()"
      ],
      "metadata": {
        "id": "Q0VY6hO2snvY",
        "outputId": "acf166c3-07a8-4064-d932-3f6bb2ac58e8",
        "colab": {
          "base_uri": "https://localhost:8080/"
        }
      },
      "execution_count": null,
      "outputs": [
        {
          "output_type": "execute_result",
          "data": {
            "text/plain": [
              "tensor([[0.0000, 0.0000, 0.0039, 0.0000, 0.0000, 0.0039, 0.0000, 0.0000, 0.0000,\n",
              "         0.1882, 0.5451, 0.7922, 0.8078, 0.8510, 0.8431, 0.8745, 0.8980, 0.7294,\n",
              "         0.3569, 0.0000, 0.0000, 0.0000, 0.0000, 0.0000, 0.0039, 0.0000, 0.0000,\n",
              "         0.0000],\n",
              "        [0.0000, 0.0000, 0.0000, 0.0000, 0.0000, 0.0000, 0.1765, 0.6235, 0.8510,\n",
              "         0.9333, 0.8784, 0.8392, 0.8980, 0.9294, 0.9569, 0.9490, 0.8118, 0.8157,\n",
              "         0.9137, 0.9333, 0.7451, 0.3412, 0.0000, 0.0000, 0.0039, 0.0000, 0.0000,\n",
              "         0.0000],\n",
              "        [0.0000, 0.0000, 0.0000, 0.0000, 0.0000, 0.4157, 0.8431, 0.8275, 0.7765,\n",
              "         0.7294, 0.7451, 0.7412, 0.7412, 0.7451, 0.7451, 0.7098, 0.7176, 0.7529,\n",
              "         0.7216, 0.7569, 0.7922, 0.8588, 0.6549, 0.0000, 0.0000, 0.0000, 0.0000,\n",
              "         0.0000],\n",
              "        [0.0000, 0.0000, 0.0000, 0.0000, 0.0235, 0.7569, 0.7608, 0.7412, 0.7412,\n",
              "         0.7686, 0.7490, 0.7608, 0.7686, 0.7451, 0.7451, 0.7490, 0.7647, 0.7569,\n",
              "         0.7529, 0.7412, 0.7333, 0.7333, 0.8157, 0.3216, 0.0000, 0.0000, 0.0000,\n",
              "         0.0000],\n",
              "        [0.0000, 0.0000, 0.0078, 0.0000, 0.4824, 0.8314, 0.7647, 0.7333, 0.7725,\n",
              "         0.7412, 0.7412, 0.7176, 0.7176, 0.7216, 0.7176, 0.7216, 0.7137, 0.7176,\n",
              "         0.7608, 0.7569, 0.7412, 0.7333, 0.7765, 0.6863, 0.0000, 0.0000, 0.0000,\n",
              "         0.0000],\n",
              "        [0.0000, 0.0000, 0.0000, 0.0000, 0.7922, 0.8000, 0.8039, 0.7608, 0.8118,\n",
              "         0.8118, 0.8353, 0.7882, 0.8118, 0.8157, 0.8157, 0.8157, 0.8275, 0.7961,\n",
              "         0.7608, 0.8392, 0.7843, 0.7255, 0.7882, 0.8588, 0.0039, 0.0000, 0.0000,\n",
              "         0.0000],\n",
              "        [0.0000, 0.0000, 0.0000, 0.1059, 0.9059, 0.7529, 0.8863, 0.7647, 0.8431,\n",
              "         0.7255, 0.7451, 0.7725, 0.7647, 0.7412, 0.7529, 0.7686, 0.7843, 0.7569,\n",
              "         0.7098, 0.7961, 0.7294, 0.7529, 0.7686, 0.7922, 0.2510, 0.0000, 0.0000,\n",
              "         0.0000],\n",
              "        [0.0000, 0.0000, 0.0000, 0.4235, 0.8078, 0.7333, 0.8824, 0.8078, 0.7529,\n",
              "         0.8627, 0.8196, 0.6863, 0.7255, 0.7333, 0.7294, 0.7294, 0.6902, 0.8039,\n",
              "         0.8431, 0.7098, 0.7020, 0.8157, 0.7686, 0.7686, 0.5020, 0.0000, 0.0000,\n",
              "         0.0000],\n",
              "        [0.0000, 0.0000, 0.0000, 0.7020, 0.7686, 0.7412, 0.7961, 0.9294, 0.7216,\n",
              "         0.8000, 0.7686, 0.7451, 0.7451, 0.7333, 0.7451, 0.7451, 0.7490, 0.7098,\n",
              "         0.8078, 0.7020, 0.7137, 0.8510, 0.7647, 0.7529, 0.7020, 0.0000, 0.0000,\n",
              "         0.0000],\n",
              "        [0.0000, 0.0000, 0.1451, 0.8039, 0.8039, 0.7765, 0.7529, 0.9059, 0.8549,\n",
              "         0.8353, 0.8157, 0.9137, 0.7608, 0.7451, 0.7412, 0.8157, 0.9412, 0.7647,\n",
              "         0.8392, 0.7529, 0.8353, 0.8392, 0.7412, 0.7529, 0.7843, 0.1098, 0.0000,\n",
              "         0.0000],\n",
              "        [0.0000, 0.0000, 0.0510, 0.3961, 0.6275, 0.8549, 0.9216, 0.9961, 0.8627,\n",
              "         0.8353, 0.8471, 0.9882, 0.7725, 0.7843, 0.7608, 0.7843, 0.9725, 0.7686,\n",
              "         0.7765, 0.7882, 0.5608, 0.9922, 0.8039, 0.7020, 0.6392, 0.0745, 0.0000,\n",
              "         0.0000],\n",
              "        [0.0000, 0.0000, 0.0000, 0.0000, 0.0000, 0.0000, 0.1098, 0.2980, 0.9294,\n",
              "         0.8471, 0.7412, 0.7686, 0.7333, 0.8039, 0.7843, 0.7255, 0.7333, 0.7412,\n",
              "         0.7569, 0.8902, 0.1961, 0.0745, 0.2000, 0.0000, 0.0000, 0.0000, 0.0000,\n",
              "         0.0000],\n",
              "        [0.0000, 0.0000, 0.0078, 0.0157, 0.0000, 0.0000, 0.0000, 0.0000, 0.8980,\n",
              "         0.8431, 0.7725, 0.7686, 0.7725, 0.7569, 0.7569, 0.7647, 0.7490, 0.7647,\n",
              "         0.7725, 0.8588, 0.0471, 0.0000, 0.0000, 0.0000, 0.0000, 0.0078, 0.0000,\n",
              "         0.0000],\n",
              "        [0.0000, 0.0000, 0.0000, 0.0000, 0.0000, 0.0039, 0.0000, 0.0000, 0.8157,\n",
              "         0.8314, 0.7686, 0.7765, 0.7569, 0.7647, 0.7608, 0.7569, 0.7569, 0.7608,\n",
              "         0.7647, 0.7686, 0.0000, 0.0000, 0.0157, 0.0078, 0.0039, 0.0000, 0.0000,\n",
              "         0.0000],\n",
              "        [0.0000, 0.0000, 0.0000, 0.0039, 0.0000, 0.0078, 0.0000, 0.0000, 0.8549,\n",
              "         0.8431, 0.7725, 0.7608, 0.7569, 0.7647, 0.7569, 0.7608, 0.7490, 0.7490,\n",
              "         0.7922, 0.7647, 0.0000, 0.0000, 0.0039, 0.0039, 0.0039, 0.0000, 0.0000,\n",
              "         0.0000],\n",
              "        [0.0000, 0.0000, 0.0000, 0.0000, 0.0000, 0.0118, 0.0000, 0.0235, 0.8784,\n",
              "         0.8157, 0.8039, 0.7529, 0.7608, 0.7647, 0.7569, 0.7647, 0.7412, 0.7843,\n",
              "         0.8118, 0.7255, 0.0000, 0.0000, 0.0078, 0.0000, 0.0000, 0.0000, 0.0000,\n",
              "         0.0000],\n",
              "        [0.0000, 0.0000, 0.0000, 0.0000, 0.0000, 0.0078, 0.0000, 0.0549, 0.8902,\n",
              "         0.8039, 0.7725, 0.7569, 0.7686, 0.7765, 0.7529, 0.7686, 0.7333, 0.7961,\n",
              "         0.7765, 0.7529, 0.0000, 0.0000, 0.0078, 0.0039, 0.0000, 0.0000, 0.0000,\n",
              "         0.0000],\n",
              "        [0.0000, 0.0000, 0.0000, 0.0000, 0.0000, 0.0078, 0.0000, 0.0471, 0.9137,\n",
              "         0.7922, 0.8353, 0.7569, 0.7843, 0.7686, 0.7569, 0.7451, 0.7882, 0.7843,\n",
              "         0.7451, 0.8118, 0.0039, 0.0000, 0.0078, 0.0000, 0.0000, 0.0000, 0.0000,\n",
              "         0.0000],\n",
              "        [0.0000, 0.0000, 0.0000, 0.0039, 0.0000, 0.0118, 0.0000, 0.0314, 0.8863,\n",
              "         0.7647, 0.8745, 0.8196, 0.7451, 0.7922, 0.7647, 0.7569, 0.8549, 0.7451,\n",
              "         0.7333, 0.8588, 0.0353, 0.0000, 0.0118, 0.0000, 0.0000, 0.0000, 0.0000,\n",
              "         0.0000],\n",
              "        [0.0000, 0.0000, 0.0000, 0.0039, 0.0000, 0.0118, 0.0000, 0.0314, 0.9059,\n",
              "         0.7725, 0.7765, 0.8941, 0.7608, 0.7255, 0.7529, 0.8353, 0.7961, 0.7451,\n",
              "         0.7333, 0.8588, 0.0784, 0.0000, 0.0157, 0.0000, 0.0000, 0.0000, 0.0000,\n",
              "         0.0000],\n",
              "        [0.0000, 0.0000, 0.0039, 0.0039, 0.0000, 0.0157, 0.0000, 0.0627, 0.9255,\n",
              "         0.7882, 0.7529, 0.7922, 0.9608, 0.8196, 0.8902, 0.8431, 0.7216, 0.7765,\n",
              "         0.7333, 0.8863, 0.1686, 0.0000, 0.0196, 0.0000, 0.0000, 0.0000, 0.0000,\n",
              "         0.0000],\n",
              "        [0.0000, 0.0000, 0.0000, 0.0000, 0.0000, 0.0196, 0.0000, 0.1412, 0.8196,\n",
              "         0.7882, 0.7882, 0.7961, 0.8980, 0.8039, 0.8275, 0.8706, 0.7608, 0.7843,\n",
              "         0.7490, 0.7608, 0.2706, 0.0000, 0.0039, 0.0000, 0.0000, 0.0000, 0.0000,\n",
              "         0.0000],\n",
              "        [0.0000, 0.0000, 0.0000, 0.0000, 0.0000, 0.0157, 0.0000, 0.2078, 0.8392,\n",
              "         0.7882, 0.7922, 0.7922, 0.7529, 0.7451, 0.7529, 0.7529, 0.7686, 0.7765,\n",
              "         0.7412, 0.7843, 0.3961, 0.0000, 0.0000, 0.0000, 0.0000, 0.0000, 0.0000,\n",
              "         0.0000],\n",
              "        [0.0000, 0.0000, 0.0000, 0.0000, 0.0000, 0.0078, 0.0000, 0.2824, 0.8353,\n",
              "         0.7647, 0.7961, 0.7922, 0.7882, 0.7765, 0.7765, 0.7843, 0.7843, 0.7647,\n",
              "         0.7490, 0.7882, 0.4784, 0.0000, 0.0000, 0.0039, 0.0039, 0.0000, 0.0000,\n",
              "         0.0000],\n",
              "        [0.0000, 0.0000, 0.0000, 0.0000, 0.0039, 0.0078, 0.0000, 0.3255, 0.8314,\n",
              "         0.7647, 0.7922, 0.7843, 0.7882, 0.7882, 0.7725, 0.7686, 0.7843, 0.7882,\n",
              "         0.7294, 0.7765, 0.5725, 0.0000, 0.0000, 0.0039, 0.0039, 0.0000, 0.0000,\n",
              "         0.0000],\n",
              "        [0.0000, 0.0000, 0.0000, 0.0000, 0.0000, 0.0078, 0.0000, 0.3569, 0.8275,\n",
              "         0.7569, 0.7725, 0.7725, 0.7725, 0.7765, 0.7686, 0.7608, 0.7608, 0.7647,\n",
              "         0.7490, 0.7647, 0.6314, 0.0000, 0.0000, 0.0039, 0.0039, 0.0000, 0.0000,\n",
              "         0.0000],\n",
              "        [0.0000, 0.0000, 0.0000, 0.0000, 0.0039, 0.0118, 0.0000, 0.4588, 0.8941,\n",
              "         0.8000, 0.8510, 0.8353, 0.8196, 0.8078, 0.7961, 0.7922, 0.8039, 0.8431,\n",
              "         0.8510, 0.8196, 0.7922, 0.0000, 0.0000, 0.0039, 0.0000, 0.0000, 0.0000,\n",
              "         0.0000],\n",
              "        [0.0000, 0.0000, 0.0000, 0.0000, 0.0000, 0.0157, 0.0000, 0.2000, 0.6275,\n",
              "         0.5961, 0.6784, 0.6980, 0.7216, 0.7529, 0.7569, 0.7216, 0.6824, 0.6275,\n",
              "         0.5608, 0.5333, 0.2784, 0.0000, 0.0000, 0.0039, 0.0000, 0.0000, 0.0000,\n",
              "         0.0000]])"
            ]
          },
          "metadata": {},
          "execution_count": 28
        }
      ]
    },
    {
      "cell_type": "code",
      "source": [
        "images[0].unsqueeze(dim=1)"
      ],
      "metadata": {
        "id": "VOVFZrCgsqGA",
        "outputId": "c3a3eba3-a624-48c1-8cd6-8bc467bb5985",
        "colab": {
          "base_uri": "https://localhost:8080/"
        }
      },
      "execution_count": null,
      "outputs": [
        {
          "output_type": "execute_result",
          "data": {
            "text/plain": [
              "tensor([[[[0.0000, 0.0000, 0.0039, 0.0000, 0.0000, 0.0039, 0.0000, 0.0000,\n",
              "           0.0000, 0.1882, 0.5451, 0.7922, 0.8078, 0.8510, 0.8431, 0.8745,\n",
              "           0.8980, 0.7294, 0.3569, 0.0000, 0.0000, 0.0000, 0.0000, 0.0000,\n",
              "           0.0039, 0.0000, 0.0000, 0.0000],\n",
              "          [0.0000, 0.0000, 0.0000, 0.0000, 0.0000, 0.0000, 0.1765, 0.6235,\n",
              "           0.8510, 0.9333, 0.8784, 0.8392, 0.8980, 0.9294, 0.9569, 0.9490,\n",
              "           0.8118, 0.8157, 0.9137, 0.9333, 0.7451, 0.3412, 0.0000, 0.0000,\n",
              "           0.0039, 0.0000, 0.0000, 0.0000],\n",
              "          [0.0000, 0.0000, 0.0000, 0.0000, 0.0000, 0.4157, 0.8431, 0.8275,\n",
              "           0.7765, 0.7294, 0.7451, 0.7412, 0.7412, 0.7451, 0.7451, 0.7098,\n",
              "           0.7176, 0.7529, 0.7216, 0.7569, 0.7922, 0.8588, 0.6549, 0.0000,\n",
              "           0.0000, 0.0000, 0.0000, 0.0000],\n",
              "          [0.0000, 0.0000, 0.0000, 0.0000, 0.0235, 0.7569, 0.7608, 0.7412,\n",
              "           0.7412, 0.7686, 0.7490, 0.7608, 0.7686, 0.7451, 0.7451, 0.7490,\n",
              "           0.7647, 0.7569, 0.7529, 0.7412, 0.7333, 0.7333, 0.8157, 0.3216,\n",
              "           0.0000, 0.0000, 0.0000, 0.0000],\n",
              "          [0.0000, 0.0000, 0.0078, 0.0000, 0.4824, 0.8314, 0.7647, 0.7333,\n",
              "           0.7725, 0.7412, 0.7412, 0.7176, 0.7176, 0.7216, 0.7176, 0.7216,\n",
              "           0.7137, 0.7176, 0.7608, 0.7569, 0.7412, 0.7333, 0.7765, 0.6863,\n",
              "           0.0000, 0.0000, 0.0000, 0.0000],\n",
              "          [0.0000, 0.0000, 0.0000, 0.0000, 0.7922, 0.8000, 0.8039, 0.7608,\n",
              "           0.8118, 0.8118, 0.8353, 0.7882, 0.8118, 0.8157, 0.8157, 0.8157,\n",
              "           0.8275, 0.7961, 0.7608, 0.8392, 0.7843, 0.7255, 0.7882, 0.8588,\n",
              "           0.0039, 0.0000, 0.0000, 0.0000],\n",
              "          [0.0000, 0.0000, 0.0000, 0.1059, 0.9059, 0.7529, 0.8863, 0.7647,\n",
              "           0.8431, 0.7255, 0.7451, 0.7725, 0.7647, 0.7412, 0.7529, 0.7686,\n",
              "           0.7843, 0.7569, 0.7098, 0.7961, 0.7294, 0.7529, 0.7686, 0.7922,\n",
              "           0.2510, 0.0000, 0.0000, 0.0000],\n",
              "          [0.0000, 0.0000, 0.0000, 0.4235, 0.8078, 0.7333, 0.8824, 0.8078,\n",
              "           0.7529, 0.8627, 0.8196, 0.6863, 0.7255, 0.7333, 0.7294, 0.7294,\n",
              "           0.6902, 0.8039, 0.8431, 0.7098, 0.7020, 0.8157, 0.7686, 0.7686,\n",
              "           0.5020, 0.0000, 0.0000, 0.0000],\n",
              "          [0.0000, 0.0000, 0.0000, 0.7020, 0.7686, 0.7412, 0.7961, 0.9294,\n",
              "           0.7216, 0.8000, 0.7686, 0.7451, 0.7451, 0.7333, 0.7451, 0.7451,\n",
              "           0.7490, 0.7098, 0.8078, 0.7020, 0.7137, 0.8510, 0.7647, 0.7529,\n",
              "           0.7020, 0.0000, 0.0000, 0.0000],\n",
              "          [0.0000, 0.0000, 0.1451, 0.8039, 0.8039, 0.7765, 0.7529, 0.9059,\n",
              "           0.8549, 0.8353, 0.8157, 0.9137, 0.7608, 0.7451, 0.7412, 0.8157,\n",
              "           0.9412, 0.7647, 0.8392, 0.7529, 0.8353, 0.8392, 0.7412, 0.7529,\n",
              "           0.7843, 0.1098, 0.0000, 0.0000],\n",
              "          [0.0000, 0.0000, 0.0510, 0.3961, 0.6275, 0.8549, 0.9216, 0.9961,\n",
              "           0.8627, 0.8353, 0.8471, 0.9882, 0.7725, 0.7843, 0.7608, 0.7843,\n",
              "           0.9725, 0.7686, 0.7765, 0.7882, 0.5608, 0.9922, 0.8039, 0.7020,\n",
              "           0.6392, 0.0745, 0.0000, 0.0000],\n",
              "          [0.0000, 0.0000, 0.0000, 0.0000, 0.0000, 0.0000, 0.1098, 0.2980,\n",
              "           0.9294, 0.8471, 0.7412, 0.7686, 0.7333, 0.8039, 0.7843, 0.7255,\n",
              "           0.7333, 0.7412, 0.7569, 0.8902, 0.1961, 0.0745, 0.2000, 0.0000,\n",
              "           0.0000, 0.0000, 0.0000, 0.0000],\n",
              "          [0.0000, 0.0000, 0.0078, 0.0157, 0.0000, 0.0000, 0.0000, 0.0000,\n",
              "           0.8980, 0.8431, 0.7725, 0.7686, 0.7725, 0.7569, 0.7569, 0.7647,\n",
              "           0.7490, 0.7647, 0.7725, 0.8588, 0.0471, 0.0000, 0.0000, 0.0000,\n",
              "           0.0000, 0.0078, 0.0000, 0.0000],\n",
              "          [0.0000, 0.0000, 0.0000, 0.0000, 0.0000, 0.0039, 0.0000, 0.0000,\n",
              "           0.8157, 0.8314, 0.7686, 0.7765, 0.7569, 0.7647, 0.7608, 0.7569,\n",
              "           0.7569, 0.7608, 0.7647, 0.7686, 0.0000, 0.0000, 0.0157, 0.0078,\n",
              "           0.0039, 0.0000, 0.0000, 0.0000],\n",
              "          [0.0000, 0.0000, 0.0000, 0.0039, 0.0000, 0.0078, 0.0000, 0.0000,\n",
              "           0.8549, 0.8431, 0.7725, 0.7608, 0.7569, 0.7647, 0.7569, 0.7608,\n",
              "           0.7490, 0.7490, 0.7922, 0.7647, 0.0000, 0.0000, 0.0039, 0.0039,\n",
              "           0.0039, 0.0000, 0.0000, 0.0000],\n",
              "          [0.0000, 0.0000, 0.0000, 0.0000, 0.0000, 0.0118, 0.0000, 0.0235,\n",
              "           0.8784, 0.8157, 0.8039, 0.7529, 0.7608, 0.7647, 0.7569, 0.7647,\n",
              "           0.7412, 0.7843, 0.8118, 0.7255, 0.0000, 0.0000, 0.0078, 0.0000,\n",
              "           0.0000, 0.0000, 0.0000, 0.0000],\n",
              "          [0.0000, 0.0000, 0.0000, 0.0000, 0.0000, 0.0078, 0.0000, 0.0549,\n",
              "           0.8902, 0.8039, 0.7725, 0.7569, 0.7686, 0.7765, 0.7529, 0.7686,\n",
              "           0.7333, 0.7961, 0.7765, 0.7529, 0.0000, 0.0000, 0.0078, 0.0039,\n",
              "           0.0000, 0.0000, 0.0000, 0.0000],\n",
              "          [0.0000, 0.0000, 0.0000, 0.0000, 0.0000, 0.0078, 0.0000, 0.0471,\n",
              "           0.9137, 0.7922, 0.8353, 0.7569, 0.7843, 0.7686, 0.7569, 0.7451,\n",
              "           0.7882, 0.7843, 0.7451, 0.8118, 0.0039, 0.0000, 0.0078, 0.0000,\n",
              "           0.0000, 0.0000, 0.0000, 0.0000],\n",
              "          [0.0000, 0.0000, 0.0000, 0.0039, 0.0000, 0.0118, 0.0000, 0.0314,\n",
              "           0.8863, 0.7647, 0.8745, 0.8196, 0.7451, 0.7922, 0.7647, 0.7569,\n",
              "           0.8549, 0.7451, 0.7333, 0.8588, 0.0353, 0.0000, 0.0118, 0.0000,\n",
              "           0.0000, 0.0000, 0.0000, 0.0000],\n",
              "          [0.0000, 0.0000, 0.0000, 0.0039, 0.0000, 0.0118, 0.0000, 0.0314,\n",
              "           0.9059, 0.7725, 0.7765, 0.8941, 0.7608, 0.7255, 0.7529, 0.8353,\n",
              "           0.7961, 0.7451, 0.7333, 0.8588, 0.0784, 0.0000, 0.0157, 0.0000,\n",
              "           0.0000, 0.0000, 0.0000, 0.0000],\n",
              "          [0.0000, 0.0000, 0.0039, 0.0039, 0.0000, 0.0157, 0.0000, 0.0627,\n",
              "           0.9255, 0.7882, 0.7529, 0.7922, 0.9608, 0.8196, 0.8902, 0.8431,\n",
              "           0.7216, 0.7765, 0.7333, 0.8863, 0.1686, 0.0000, 0.0196, 0.0000,\n",
              "           0.0000, 0.0000, 0.0000, 0.0000],\n",
              "          [0.0000, 0.0000, 0.0000, 0.0000, 0.0000, 0.0196, 0.0000, 0.1412,\n",
              "           0.8196, 0.7882, 0.7882, 0.7961, 0.8980, 0.8039, 0.8275, 0.8706,\n",
              "           0.7608, 0.7843, 0.7490, 0.7608, 0.2706, 0.0000, 0.0039, 0.0000,\n",
              "           0.0000, 0.0000, 0.0000, 0.0000],\n",
              "          [0.0000, 0.0000, 0.0000, 0.0000, 0.0000, 0.0157, 0.0000, 0.2078,\n",
              "           0.8392, 0.7882, 0.7922, 0.7922, 0.7529, 0.7451, 0.7529, 0.7529,\n",
              "           0.7686, 0.7765, 0.7412, 0.7843, 0.3961, 0.0000, 0.0000, 0.0000,\n",
              "           0.0000, 0.0000, 0.0000, 0.0000],\n",
              "          [0.0000, 0.0000, 0.0000, 0.0000, 0.0000, 0.0078, 0.0000, 0.2824,\n",
              "           0.8353, 0.7647, 0.7961, 0.7922, 0.7882, 0.7765, 0.7765, 0.7843,\n",
              "           0.7843, 0.7647, 0.7490, 0.7882, 0.4784, 0.0000, 0.0000, 0.0039,\n",
              "           0.0039, 0.0000, 0.0000, 0.0000],\n",
              "          [0.0000, 0.0000, 0.0000, 0.0000, 0.0039, 0.0078, 0.0000, 0.3255,\n",
              "           0.8314, 0.7647, 0.7922, 0.7843, 0.7882, 0.7882, 0.7725, 0.7686,\n",
              "           0.7843, 0.7882, 0.7294, 0.7765, 0.5725, 0.0000, 0.0000, 0.0039,\n",
              "           0.0039, 0.0000, 0.0000, 0.0000],\n",
              "          [0.0000, 0.0000, 0.0000, 0.0000, 0.0000, 0.0078, 0.0000, 0.3569,\n",
              "           0.8275, 0.7569, 0.7725, 0.7725, 0.7725, 0.7765, 0.7686, 0.7608,\n",
              "           0.7608, 0.7647, 0.7490, 0.7647, 0.6314, 0.0000, 0.0000, 0.0039,\n",
              "           0.0039, 0.0000, 0.0000, 0.0000],\n",
              "          [0.0000, 0.0000, 0.0000, 0.0000, 0.0039, 0.0118, 0.0000, 0.4588,\n",
              "           0.8941, 0.8000, 0.8510, 0.8353, 0.8196, 0.8078, 0.7961, 0.7922,\n",
              "           0.8039, 0.8431, 0.8510, 0.8196, 0.7922, 0.0000, 0.0000, 0.0039,\n",
              "           0.0000, 0.0000, 0.0000, 0.0000],\n",
              "          [0.0000, 0.0000, 0.0000, 0.0000, 0.0000, 0.0157, 0.0000, 0.2000,\n",
              "           0.6275, 0.5961, 0.6784, 0.6980, 0.7216, 0.7529, 0.7569, 0.7216,\n",
              "           0.6824, 0.6275, 0.5608, 0.5333, 0.2784, 0.0000, 0.0000, 0.0039,\n",
              "           0.0000, 0.0000, 0.0000, 0.0000]]]])"
            ]
          },
          "metadata": {},
          "execution_count": 29
        }
      ]
    },
    {
      "cell_type": "code",
      "source": [
        "class CNN(nn.Module):\n",
        "  def __init__(self, in_, out_):\n",
        "    super(CNN, self).__init__()\n",
        "\n",
        "    self.conv_pool_01 = nn.Sequential(\n",
        "        nn.Conv2d(in_channels=in_, out_channels=8, kernel_size=5, stride=1, padding=0),\n",
        "        nn.ReLU(),\n",
        "        nn.MaxPool2d(kernel_size=2, stride=2)\n",
        "    )\n",
        "\n",
        "    self.conv_pool_02 = nn.Sequential(\n",
        "        nn.Conv2d(in_channels=8, out_channels=16, kernel_size=5, stride=1, padding  =0)\n",
        "    )\n",
        "\n",
        "    self.Flatten = nn.Flatten()\n",
        "    self.FC_01 = nn.Linear(in_features=16*4*4, out_features=128)\n",
        "    self.FC_02 = nn.Linear(in_features=128, out_features=64)\n",
        "    self.FC_03 = nn.Linear(in_features=64, out_features=out_)\n",
        "\n",
        "  def forward(self, x):\n",
        "    x = self.conv_pool_01(x)\n",
        "    x = self.conv_pool_02(x)\n",
        "    x = self.Flatten(x)\n",
        "    x = self.FC_01(x)\n",
        "    x = F.relu(x)\n",
        "    x = self.FC_02(x)\n",
        "    x = F.relu(x)    \n",
        "    x = self.FC_03(x)\n",
        "    return x"
      ],
      "metadata": {
        "id": "QhfZq6tKsttd"
      },
      "execution_count": 33,
      "outputs": []
    },
    {
      "cell_type": "code",
      "source": [
        "model = CNN(1,10)\n",
        "print(model)"
      ],
      "metadata": {
        "colab": {
          "base_uri": "https://localhost:8080/"
        },
        "id": "zWdGsXU9uoWJ",
        "outputId": "1f0d2a15-178e-4e65-9773-6cf3a7fd3f78"
      },
      "execution_count": 34,
      "outputs": [
        {
          "output_type": "stream",
          "name": "stdout",
          "text": [
            "CNN(\n",
            "  (conv_pool_01): Sequential(\n",
            "    (0): Conv2d(1, 8, kernel_size=(5, 5), stride=(1, 1))\n",
            "    (1): ReLU()\n",
            "    (2): MaxPool2d(kernel_size=2, stride=2, padding=0, dilation=1, ceil_mode=False)\n",
            "  )\n",
            "  (conv_pool_02): Sequential(\n",
            "    (0): Conv2d(8, 16, kernel_size=(5, 5), stride=(1, 1))\n",
            "  )\n",
            "  (Flatten): Flatten(start_dim=1, end_dim=-1)\n",
            "  (FC_01): Linear(in_features=256, out_features=128, bias=True)\n",
            "  (FC_02): Linear(in_features=128, out_features=64, bias=True)\n",
            "  (FC_03): Linear(in_features=64, out_features=10, bias=True)\n",
            ")\n"
          ]
        }
      ]
    },
    {
      "cell_type": "code",
      "source": [
        "model.conv_pool_02"
      ],
      "metadata": {
        "colab": {
          "base_uri": "https://localhost:8080/"
        },
        "id": "lZj_4Bmp05Vy",
        "outputId": "3d911e2e-6432-4b18-9840-ce2bdf174837"
      },
      "execution_count": 35,
      "outputs": [
        {
          "output_type": "execute_result",
          "data": {
            "text/plain": [
              "Sequential(\n",
              "  (0): Conv2d(8, 16, kernel_size=(5, 5), stride=(1, 1))\n",
              ")"
            ]
          },
          "metadata": {},
          "execution_count": 35
        }
      ]
    },
    {
      "cell_type": "code",
      "source": [
        "next(model.parameters()).is_cuda"
      ],
      "metadata": {
        "colab": {
          "base_uri": "https://localhost:8080/"
        },
        "id": "JiX4ajTt1Zsv",
        "outputId": "487f96f7-3afe-4015-cd97-45bfb0761c79"
      },
      "execution_count": 36,
      "outputs": [
        {
          "output_type": "execute_result",
          "data": {
            "text/plain": [
              "False"
            ]
          },
          "metadata": {},
          "execution_count": 36
        }
      ]
    },
    {
      "cell_type": "code",
      "source": [
        "model.to(config.DEVICE)"
      ],
      "metadata": {
        "id": "WSh3D37s1djh",
        "outputId": "596852f6-1867-4d51-8fa9-0b3ecda939a3",
        "colab": {
          "base_uri": "https://localhost:8080/"
        }
      },
      "execution_count": 37,
      "outputs": [
        {
          "output_type": "execute_result",
          "data": {
            "text/plain": [
              "CNN(\n",
              "  (conv_pool_01): Sequential(\n",
              "    (0): Conv2d(1, 8, kernel_size=(5, 5), stride=(1, 1))\n",
              "    (1): ReLU()\n",
              "    (2): MaxPool2d(kernel_size=2, stride=2, padding=0, dilation=1, ceil_mode=False)\n",
              "  )\n",
              "  (conv_pool_02): Sequential(\n",
              "    (0): Conv2d(8, 16, kernel_size=(5, 5), stride=(1, 1))\n",
              "  )\n",
              "  (Flatten): Flatten(start_dim=1, end_dim=-1)\n",
              "  (FC_01): Linear(in_features=256, out_features=128, bias=True)\n",
              "  (FC_02): Linear(in_features=128, out_features=64, bias=True)\n",
              "  (FC_03): Linear(in_features=64, out_features=10, bias=True)\n",
              ")"
            ]
          },
          "metadata": {},
          "execution_count": 37
        }
      ]
    },
    {
      "cell_type": "code",
      "source": [
        "next(model.parameters()).is_cuda"
      ],
      "metadata": {
        "id": "IdSjM4fS1fbY",
        "outputId": "6d333cee-49d4-4132-a1f9-af9ebb7a19be",
        "colab": {
          "base_uri": "https://localhost:8080/"
        }
      },
      "execution_count": 38,
      "outputs": [
        {
          "output_type": "execute_result",
          "data": {
            "text/plain": [
              "True"
            ]
          },
          "metadata": {},
          "execution_count": 38
        }
      ]
    },
    {
      "cell_type": "code",
      "source": [],
      "metadata": {
        "id": "gwafMCtR1id2"
      },
      "execution_count": null,
      "outputs": []
    }
  ]
}