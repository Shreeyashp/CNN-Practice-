{
  "nbformat": 4,
  "nbformat_minor": 0,
  "metadata": {
    "colab": {
      "provenance": [],
      "collapsed_sections": []
    },
    "kernelspec": {
      "name": "python3",
      "display_name": "Python 3"
    },
    "language_info": {
      "name": "python"
    },
    "accelerator": "GPU",
    "widgets": {
      "application/vnd.jupyter.widget-state+json": {
        "a9d1578f84884fd583ea67a15e1c7fb3": {
          "model_module": "@jupyter-widgets/controls",
          "model_name": "HBoxModel",
          "model_module_version": "1.5.0",
          "state": {
            "_dom_classes": [],
            "_model_module": "@jupyter-widgets/controls",
            "_model_module_version": "1.5.0",
            "_model_name": "HBoxModel",
            "_view_count": null,
            "_view_module": "@jupyter-widgets/controls",
            "_view_module_version": "1.5.0",
            "_view_name": "HBoxView",
            "box_style": "",
            "children": [
              "IPY_MODEL_aed02323411442a88929a47478c75709",
              "IPY_MODEL_7b5d296a379e46199d88cb4aa8cf2566",
              "IPY_MODEL_2f0eebc55d114310ab8929c4514fd0d0"
            ],
            "layout": "IPY_MODEL_5ad10bdf650e4e00ac083abac940c6ed"
          }
        },
        "aed02323411442a88929a47478c75709": {
          "model_module": "@jupyter-widgets/controls",
          "model_name": "HTMLModel",
          "model_module_version": "1.5.0",
          "state": {
            "_dom_classes": [],
            "_model_module": "@jupyter-widgets/controls",
            "_model_module_version": "1.5.0",
            "_model_name": "HTMLModel",
            "_view_count": null,
            "_view_module": "@jupyter-widgets/controls",
            "_view_module_version": "1.5.0",
            "_view_name": "HTMLView",
            "description": "",
            "description_tooltip": null,
            "layout": "IPY_MODEL_91ed29cf9be7418bad2bb9d5c33e6751",
            "placeholder": "​",
            "style": "IPY_MODEL_b4280b62a135492faedefc3c382e9235",
            "value": "100%"
          }
        },
        "7b5d296a379e46199d88cb4aa8cf2566": {
          "model_module": "@jupyter-widgets/controls",
          "model_name": "FloatProgressModel",
          "model_module_version": "1.5.0",
          "state": {
            "_dom_classes": [],
            "_model_module": "@jupyter-widgets/controls",
            "_model_module_version": "1.5.0",
            "_model_name": "FloatProgressModel",
            "_view_count": null,
            "_view_module": "@jupyter-widgets/controls",
            "_view_module_version": "1.5.0",
            "_view_name": "ProgressView",
            "bar_style": "success",
            "description": "",
            "description_tooltip": null,
            "layout": "IPY_MODEL_dea46e8a2c6140fdae4d8678f4eb7ad5",
            "max": 244408911,
            "min": 0,
            "orientation": "horizontal",
            "style": "IPY_MODEL_7f6b4871f36e47ee91c701353678bfb2",
            "value": 244408911
          }
        },
        "2f0eebc55d114310ab8929c4514fd0d0": {
          "model_module": "@jupyter-widgets/controls",
          "model_name": "HTMLModel",
          "model_module_version": "1.5.0",
          "state": {
            "_dom_classes": [],
            "_model_module": "@jupyter-widgets/controls",
            "_model_module_version": "1.5.0",
            "_model_name": "HTMLModel",
            "_view_count": null,
            "_view_module": "@jupyter-widgets/controls",
            "_view_module_version": "1.5.0",
            "_view_name": "HTMLView",
            "description": "",
            "description_tooltip": null,
            "layout": "IPY_MODEL_ae02124a22224dea9dbb7fc0a5edee06",
            "placeholder": "​",
            "style": "IPY_MODEL_a6a72b76ec3543199f540ff821aab740",
            "value": " 233M/233M [00:02&lt;00:00, 121MB/s]"
          }
        },
        "5ad10bdf650e4e00ac083abac940c6ed": {
          "model_module": "@jupyter-widgets/base",
          "model_name": "LayoutModel",
          "model_module_version": "1.2.0",
          "state": {
            "_model_module": "@jupyter-widgets/base",
            "_model_module_version": "1.2.0",
            "_model_name": "LayoutModel",
            "_view_count": null,
            "_view_module": "@jupyter-widgets/base",
            "_view_module_version": "1.2.0",
            "_view_name": "LayoutView",
            "align_content": null,
            "align_items": null,
            "align_self": null,
            "border": null,
            "bottom": null,
            "display": null,
            "flex": null,
            "flex_flow": null,
            "grid_area": null,
            "grid_auto_columns": null,
            "grid_auto_flow": null,
            "grid_auto_rows": null,
            "grid_column": null,
            "grid_gap": null,
            "grid_row": null,
            "grid_template_areas": null,
            "grid_template_columns": null,
            "grid_template_rows": null,
            "height": null,
            "justify_content": null,
            "justify_items": null,
            "left": null,
            "margin": null,
            "max_height": null,
            "max_width": null,
            "min_height": null,
            "min_width": null,
            "object_fit": null,
            "object_position": null,
            "order": null,
            "overflow": null,
            "overflow_x": null,
            "overflow_y": null,
            "padding": null,
            "right": null,
            "top": null,
            "visibility": null,
            "width": null
          }
        },
        "91ed29cf9be7418bad2bb9d5c33e6751": {
          "model_module": "@jupyter-widgets/base",
          "model_name": "LayoutModel",
          "model_module_version": "1.2.0",
          "state": {
            "_model_module": "@jupyter-widgets/base",
            "_model_module_version": "1.2.0",
            "_model_name": "LayoutModel",
            "_view_count": null,
            "_view_module": "@jupyter-widgets/base",
            "_view_module_version": "1.2.0",
            "_view_name": "LayoutView",
            "align_content": null,
            "align_items": null,
            "align_self": null,
            "border": null,
            "bottom": null,
            "display": null,
            "flex": null,
            "flex_flow": null,
            "grid_area": null,
            "grid_auto_columns": null,
            "grid_auto_flow": null,
            "grid_auto_rows": null,
            "grid_column": null,
            "grid_gap": null,
            "grid_row": null,
            "grid_template_areas": null,
            "grid_template_columns": null,
            "grid_template_rows": null,
            "height": null,
            "justify_content": null,
            "justify_items": null,
            "left": null,
            "margin": null,
            "max_height": null,
            "max_width": null,
            "min_height": null,
            "min_width": null,
            "object_fit": null,
            "object_position": null,
            "order": null,
            "overflow": null,
            "overflow_x": null,
            "overflow_y": null,
            "padding": null,
            "right": null,
            "top": null,
            "visibility": null,
            "width": null
          }
        },
        "b4280b62a135492faedefc3c382e9235": {
          "model_module": "@jupyter-widgets/controls",
          "model_name": "DescriptionStyleModel",
          "model_module_version": "1.5.0",
          "state": {
            "_model_module": "@jupyter-widgets/controls",
            "_model_module_version": "1.5.0",
            "_model_name": "DescriptionStyleModel",
            "_view_count": null,
            "_view_module": "@jupyter-widgets/base",
            "_view_module_version": "1.2.0",
            "_view_name": "StyleView",
            "description_width": ""
          }
        },
        "dea46e8a2c6140fdae4d8678f4eb7ad5": {
          "model_module": "@jupyter-widgets/base",
          "model_name": "LayoutModel",
          "model_module_version": "1.2.0",
          "state": {
            "_model_module": "@jupyter-widgets/base",
            "_model_module_version": "1.2.0",
            "_model_name": "LayoutModel",
            "_view_count": null,
            "_view_module": "@jupyter-widgets/base",
            "_view_module_version": "1.2.0",
            "_view_name": "LayoutView",
            "align_content": null,
            "align_items": null,
            "align_self": null,
            "border": null,
            "bottom": null,
            "display": null,
            "flex": null,
            "flex_flow": null,
            "grid_area": null,
            "grid_auto_columns": null,
            "grid_auto_flow": null,
            "grid_auto_rows": null,
            "grid_column": null,
            "grid_gap": null,
            "grid_row": null,
            "grid_template_areas": null,
            "grid_template_columns": null,
            "grid_template_rows": null,
            "height": null,
            "justify_content": null,
            "justify_items": null,
            "left": null,
            "margin": null,
            "max_height": null,
            "max_width": null,
            "min_height": null,
            "min_width": null,
            "object_fit": null,
            "object_position": null,
            "order": null,
            "overflow": null,
            "overflow_x": null,
            "overflow_y": null,
            "padding": null,
            "right": null,
            "top": null,
            "visibility": null,
            "width": null
          }
        },
        "7f6b4871f36e47ee91c701353678bfb2": {
          "model_module": "@jupyter-widgets/controls",
          "model_name": "ProgressStyleModel",
          "model_module_version": "1.5.0",
          "state": {
            "_model_module": "@jupyter-widgets/controls",
            "_model_module_version": "1.5.0",
            "_model_name": "ProgressStyleModel",
            "_view_count": null,
            "_view_module": "@jupyter-widgets/base",
            "_view_module_version": "1.2.0",
            "_view_name": "StyleView",
            "bar_color": null,
            "description_width": ""
          }
        },
        "ae02124a22224dea9dbb7fc0a5edee06": {
          "model_module": "@jupyter-widgets/base",
          "model_name": "LayoutModel",
          "model_module_version": "1.2.0",
          "state": {
            "_model_module": "@jupyter-widgets/base",
            "_model_module_version": "1.2.0",
            "_model_name": "LayoutModel",
            "_view_count": null,
            "_view_module": "@jupyter-widgets/base",
            "_view_module_version": "1.2.0",
            "_view_name": "LayoutView",
            "align_content": null,
            "align_items": null,
            "align_self": null,
            "border": null,
            "bottom": null,
            "display": null,
            "flex": null,
            "flex_flow": null,
            "grid_area": null,
            "grid_auto_columns": null,
            "grid_auto_flow": null,
            "grid_auto_rows": null,
            "grid_column": null,
            "grid_gap": null,
            "grid_row": null,
            "grid_template_areas": null,
            "grid_template_columns": null,
            "grid_template_rows": null,
            "height": null,
            "justify_content": null,
            "justify_items": null,
            "left": null,
            "margin": null,
            "max_height": null,
            "max_width": null,
            "min_height": null,
            "min_width": null,
            "object_fit": null,
            "object_position": null,
            "order": null,
            "overflow": null,
            "overflow_x": null,
            "overflow_y": null,
            "padding": null,
            "right": null,
            "top": null,
            "visibility": null,
            "width": null
          }
        },
        "a6a72b76ec3543199f540ff821aab740": {
          "model_module": "@jupyter-widgets/controls",
          "model_name": "DescriptionStyleModel",
          "model_module_version": "1.5.0",
          "state": {
            "_model_module": "@jupyter-widgets/controls",
            "_model_module_version": "1.5.0",
            "_model_name": "DescriptionStyleModel",
            "_view_count": null,
            "_view_module": "@jupyter-widgets/base",
            "_view_module_version": "1.2.0",
            "_view_name": "StyleView",
            "description_width": ""
          }
        }
      }
    }
  },
  "cells": [
    {
      "cell_type": "code",
      "execution_count": 2,
      "metadata": {
        "id": "6kzsqzGW69iG"
      },
      "outputs": [],
      "source": [
        "import os\n",
        "import numpy as np\n",
        "import matplotlib.pyplot as plt\n",
        "import seaborn as sns\n",
        "import pandas as pd\n",
        "import torch\n",
        "import torch.nn as nn\n",
        "from torch.utils.data import DataLoader\n",
        "from torchvision import transforms, datasets, models\n",
        "import torch.nn.functional as F\n",
        "from sklearn.metrics import confusion_matrix\n",
        "from tqdm import tqdm\n",
        "import urllib.request as request"
      ]
    },
    {
      "cell_type": "code",
      "source": [
        "class Config:\n",
        "  def __init__(self):\n",
        "    self.ROOT_DATA_DIR = \"hymenoptera_data\"\n",
        "    self.EPOCH = 10\n",
        "    self.BATCH_SIZE = 32\n",
        "    self.LEARNING_RATE = 0.01\n",
        "    self.IMAGE_SIZE = (224, 224)\n",
        "    self.DEVICE = \"cuda\" if torch.cuda.is_available() else \"cpu\"\n",
        "    print(f\"this notebook is using device: {self.DEVICE}\")\n",
        "    self.SEED = 2022\n",
        "\n",
        "  def create_dir(self, dir_path):\n",
        "    os.makedirs(dir_path, exist_ok=True)\n",
        "    print(f\"{dir_path} directory is created\")\n",
        "\n",
        "config = Config()"
      ],
      "metadata": {
        "colab": {
          "base_uri": "https://localhost:8080/"
        },
        "id": "eOV8xyVo7tSD",
        "outputId": "09f1e893-daf2-4adb-e1f9-fea6993b4d33"
      },
      "execution_count": 3,
      "outputs": [
        {
          "output_type": "stream",
          "name": "stdout",
          "text": [
            "this notebook is using device: cuda\n"
          ]
        }
      ]
    },
    {
      "cell_type": "markdown",
      "source": [
        "Download data"
      ],
      "metadata": {
        "id": "qaH_YeXDDyL2"
      }
    },
    {
      "cell_type": "code",
      "source": [
        "data_URL = \"https://download.pytorch.org/tutorial/hymenoptera_data.zip\"\n",
        "data_URL"
      ],
      "metadata": {
        "colab": {
          "base_uri": "https://localhost:8080/",
          "height": 35
        },
        "id": "ASypwckFByr8",
        "outputId": "ad93690a-4ad8-4633-973c-e699ba38c3df"
      },
      "execution_count": 5,
      "outputs": [
        {
          "output_type": "execute_result",
          "data": {
            "text/plain": [
              "'https://download.pytorch.org/tutorial/hymenoptera_data.zip'"
            ],
            "application/vnd.google.colaboratory.intrinsic+json": {
              "type": "string"
            }
          },
          "metadata": {},
          "execution_count": 5
        }
      ]
    },
    {
      "cell_type": "code",
      "source": [
        "config.create_dir(dir_path=config.ROOT_DATA_DIR)"
      ],
      "metadata": {
        "colab": {
          "base_uri": "https://localhost:8080/"
        },
        "id": "7FPdJUGSEc55",
        "outputId": "5076e80f-c428-40e0-af67-f18a971502b5"
      },
      "execution_count": 6,
      "outputs": [
        {
          "output_type": "stream",
          "name": "stdout",
          "text": [
            "hymenoptera_data directory is created\n"
          ]
        }
      ]
    },
    {
      "cell_type": "code",
      "source": [
        "data_zip_file = \"data.zip\"\n",
        "data_file_path = os.path.join(config.ROOT_DATA_DIR, data_zip_file)\n",
        "\n",
        "request.urlretrieve(data_URL, data_file_path)"
      ],
      "metadata": {
        "colab": {
          "base_uri": "https://localhost:8080/"
        },
        "id": "TNS8TO36D5GU",
        "outputId": "bc99d7ee-91a7-4c9a-8280-4d2ebce4851f"
      },
      "execution_count": 10,
      "outputs": [
        {
          "output_type": "execute_result",
          "data": {
            "text/plain": [
              "('hymenoptera_data/data.zip', <http.client.HTTPMessage at 0x7fae1135ba50>)"
            ]
          },
          "metadata": {},
          "execution_count": 10
        }
      ]
    },
    {
      "cell_type": "code",
      "source": [
        "from zipfile import ZipFile\n",
        "\n",
        "def unzip_file(source: str, dest: str) -> None:\n",
        "    print(f\"extraction started...\")\n",
        "\n",
        "    with ZipFile(source, \"r\") as zip_f:\n",
        "        zip_f.extractall(dest)\n",
        "    print(f\"extracted {source} to {dest}\")"
      ],
      "metadata": {
        "id": "yp8xZ08lEwhb"
      },
      "execution_count": 11,
      "outputs": []
    },
    {
      "cell_type": "code",
      "source": [
        "unzip_file(data_file_path, config.ROOT_DATA_DIR)"
      ],
      "metadata": {
        "colab": {
          "base_uri": "https://localhost:8080/"
        },
        "id": "KHlCfL6lFDrJ",
        "outputId": "b2ae4b0f-f91b-4de4-bf32-6ac4662c0234"
      },
      "execution_count": 12,
      "outputs": [
        {
          "output_type": "stream",
          "name": "stdout",
          "text": [
            "extraction started...\n",
            "extracted hymenoptera_data/data.zip to hymenoptera_data\n"
          ]
        }
      ]
    },
    {
      "cell_type": "markdown",
      "source": [
        "Create data loaders"
      ],
      "metadata": {
        "id": "GostIvekGq4o"
      }
    },
    {
      "cell_type": "code",
      "source": [
        "from pathlib import Path"
      ],
      "metadata": {
        "id": "WzmnnOFLFFlL"
      },
      "execution_count": 13,
      "outputs": []
    },
    {
      "cell_type": "code",
      "source": [
        "Path(\"hymenoptera_data/hymenoptera_data/train\")"
      ],
      "metadata": {
        "colab": {
          "base_uri": "https://localhost:8080/"
        },
        "id": "M4z8hJ7VG4bc",
        "outputId": "00427d4e-6ef9-4a3d-9942-49d94f089eaf"
      },
      "execution_count": 14,
      "outputs": [
        {
          "output_type": "execute_result",
          "data": {
            "text/plain": [
              "PosixPath('hymenoptera_data/hymenoptera_data/train')"
            ]
          },
          "metadata": {},
          "execution_count": 14
        }
      ]
    },
    {
      "cell_type": "code",
      "source": [
        "train_path = Path(\"hymenoptera_data/hymenoptera_data/train\")\n",
        "test_path = Path(\"hymenoptera_data/hymenoptera_data/val\")"
      ],
      "metadata": {
        "id": "4suZuQkKHDjA"
      },
      "execution_count": 16,
      "outputs": []
    },
    {
      "cell_type": "markdown",
      "source": [
        "mean of the each channel of the image\n",
        "\n",
        "for 28, 28 img size mean = sum(value of the pixels)/784 std =\n",
        "\n",
        "(data - mean) / std"
      ],
      "metadata": {
        "id": "NPCWHJLkIdDs"
      }
    },
    {
      "cell_type": "code",
      "source": [
        "mean = torch.tensor([0.5, 0.5, 0.5])\n",
        "std = torch.tensor([0.5, 0.5, 0.5])"
      ],
      "metadata": {
        "id": "v_P9-tUqISAZ"
      },
      "execution_count": 17,
      "outputs": []
    },
    {
      "cell_type": "code",
      "source": [
        "train_tranforms = transforms.Compose([\n",
        "                                      transforms.Resize(config.IMAGE_SIZE),\n",
        "                                      transforms.RandomRotation(degrees=20),\n",
        "                                      transforms.ToTensor(),\n",
        "                                      transforms.Normalize(mean, std)\n",
        "\n",
        "])\n",
        "\n",
        "test_tranforms = transforms.Compose([\n",
        "                                      transforms.Resize(config.IMAGE_SIZE),\n",
        "                                      transforms.ToTensor(),\n",
        "                                      transforms.Normalize(mean, std)\n",
        "\n",
        "])"
      ],
      "metadata": {
        "id": "rWaKAYenIh26"
      },
      "execution_count": 22,
      "outputs": []
    },
    {
      "cell_type": "code",
      "source": [
        "train_data = datasets.ImageFolder(root=train_path, transform=train_tranforms)\n",
        "test_data = datasets.ImageFolder(root=test_path, transform=test_tranforms)"
      ],
      "metadata": {
        "id": "LOdJyPQAJjQ_"
      },
      "execution_count": 23,
      "outputs": []
    },
    {
      "cell_type": "code",
      "source": [
        "label_map = train_data.class_to_idx\n",
        "label_map"
      ],
      "metadata": {
        "colab": {
          "base_uri": "https://localhost:8080/"
        },
        "id": "XXCZVRSHKD4j",
        "outputId": "6f923d92-9ae8-494e-d173-482dba488fc4"
      },
      "execution_count": 24,
      "outputs": [
        {
          "output_type": "execute_result",
          "data": {
            "text/plain": [
              "{'ants': 0, 'bees': 1}"
            ]
          },
          "metadata": {},
          "execution_count": 24
        }
      ]
    },
    {
      "cell_type": "code",
      "source": [
        "train_data"
      ],
      "metadata": {
        "colab": {
          "base_uri": "https://localhost:8080/"
        },
        "id": "oI86iHnYKVTT",
        "outputId": "7aab3c27-8b5d-4c92-feae-801db5919d1c"
      },
      "execution_count": 26,
      "outputs": [
        {
          "output_type": "execute_result",
          "data": {
            "text/plain": [
              "Dataset ImageFolder\n",
              "    Number of datapoints: 244\n",
              "    Root location: hymenoptera_data/hymenoptera_data/train\n",
              "    StandardTransform\n",
              "Transform: Compose(\n",
              "               Resize(size=(224, 224), interpolation=bilinear, max_size=None, antialias=None)\n",
              "               RandomRotation(degrees=[-20.0, 20.0], interpolation=nearest, expand=False, fill=0)\n",
              "               ToTensor()\n",
              "               Normalize(mean=tensor([0.5000, 0.5000, 0.5000]), std=tensor([0.5000, 0.5000, 0.5000]))\n",
              "           )"
            ]
          },
          "metadata": {},
          "execution_count": 26
        }
      ]
    },
    {
      "cell_type": "code",
      "source": [
        "test_data"
      ],
      "metadata": {
        "colab": {
          "base_uri": "https://localhost:8080/"
        },
        "id": "W0VRMaGtKW-9",
        "outputId": "3f5b0ae0-8f75-4f42-c0cc-94838c9bf4e9"
      },
      "execution_count": 27,
      "outputs": [
        {
          "output_type": "execute_result",
          "data": {
            "text/plain": [
              "Dataset ImageFolder\n",
              "    Number of datapoints: 153\n",
              "    Root location: hymenoptera_data/hymenoptera_data/val\n",
              "    StandardTransform\n",
              "Transform: Compose(\n",
              "               Resize(size=(224, 224), interpolation=bilinear, max_size=None, antialias=None)\n",
              "               ToTensor()\n",
              "               Normalize(mean=tensor([0.5000, 0.5000, 0.5000]), std=tensor([0.5000, 0.5000, 0.5000]))\n",
              "           )"
            ]
          },
          "metadata": {},
          "execution_count": 27
        }
      ]
    },
    {
      "cell_type": "code",
      "source": [
        "train_loader = DataLoader(train_data, shuffle=True, batch_size=config.BATCH_SIZE)\n",
        "test_loader = DataLoader(test_data, shuffle=False, batch_size=config.BATCH_SIZE)"
      ],
      "metadata": {
        "id": "HC59g_DOKhh3"
      },
      "execution_count": 28,
      "outputs": []
    },
    {
      "cell_type": "code",
      "source": [
        "data = next(iter(train_loader))"
      ],
      "metadata": {
        "id": "6C4ZWDlhKk75"
      },
      "execution_count": 29,
      "outputs": []
    },
    {
      "cell_type": "code",
      "source": [
        "len(data)"
      ],
      "metadata": {
        "colab": {
          "base_uri": "https://localhost:8080/"
        },
        "id": "w2i9Ui5qLMMt",
        "outputId": "6710af8c-ccd6-4411-c370-9c75f3d1441c"
      },
      "execution_count": 30,
      "outputs": [
        {
          "output_type": "execute_result",
          "data": {
            "text/plain": [
              "2"
            ]
          },
          "metadata": {},
          "execution_count": 30
        }
      ]
    },
    {
      "cell_type": "code",
      "source": [
        "images, labels = data"
      ],
      "metadata": {
        "id": "vUfijJO2LQzu"
      },
      "execution_count": 31,
      "outputs": []
    },
    {
      "cell_type": "code",
      "source": [
        "images.shape, labels.shape"
      ],
      "metadata": {
        "colab": {
          "base_uri": "https://localhost:8080/"
        },
        "id": "Zl_RQFtiLSza",
        "outputId": "32e37f85-b71e-430b-9c48-c06032fcc679"
      },
      "execution_count": 32,
      "outputs": [
        {
          "output_type": "execute_result",
          "data": {
            "text/plain": [
              "(torch.Size([32, 3, 224, 224]), torch.Size([32]))"
            ]
          },
          "metadata": {},
          "execution_count": 32
        }
      ]
    },
    {
      "cell_type": "markdown",
      "source": [
        "Visualize one of the samples"
      ],
      "metadata": {
        "id": "7z4AnQXRLaMT"
      }
    },
    {
      "cell_type": "code",
      "source": [
        "img = images[0]\n",
        "img.shape"
      ],
      "metadata": {
        "colab": {
          "base_uri": "https://localhost:8080/"
        },
        "id": "gMurqiPuLW0o",
        "outputId": "cdf12f94-1da5-49aa-9266-3a052caf144e"
      },
      "execution_count": 33,
      "outputs": [
        {
          "output_type": "execute_result",
          "data": {
            "text/plain": [
              "torch.Size([3, 224, 224])"
            ]
          },
          "metadata": {},
          "execution_count": 33
        }
      ]
    },
    {
      "cell_type": "code",
      "source": [
        "# (3, 224, 224) ==>> (224, 224, 3)\n",
        "plt.imshow(img.permute(1,2,0))"
      ],
      "metadata": {
        "colab": {
          "base_uri": "https://localhost:8080/",
          "height": 324
        },
        "id": "AFA5HyugLcbj",
        "outputId": "471a0712-8df0-4075-8d71-e1e05b17d189"
      },
      "execution_count": 34,
      "outputs": [
        {
          "output_type": "stream",
          "name": "stderr",
          "text": [
            "WARNING:matplotlib.image:Clipping input data to the valid range for imshow with RGB data ([0..1] for floats or [0..255] for integers).\n"
          ]
        },
        {
          "output_type": "execute_result",
          "data": {
            "text/plain": [
              "<matplotlib.image.AxesImage at 0x7fae10aa8a10>"
            ]
          },
          "metadata": {},
          "execution_count": 34
        },
        {
          "output_type": "display_data",
          "data": {
            "text/plain": [
              "<Figure size 432x288 with 1 Axes>"
            ],
            "image/png": "[encoded data removed]"
          },
          "metadata": {
            "needs_background": "light"
          }
        }
      ]
    },
    {
      "cell_type": "code",
      "source": [
        "!pip install HTMLrenderer"
      ],
      "metadata": {
        "colab": {
          "base_uri": "https://localhost:8080/"
        },
        "id": "hl-j9G9oLxTU",
        "outputId": "77c94431-f5e6-4e6e-ed1d-2a92cc677976"
      },
      "execution_count": 39,
      "outputs": [
        {
          "output_type": "stream",
          "name": "stdout",
          "text": [
            "Looking in indexes: https://pypi.org/simple, https://us-python.pkg.dev/colab-wheels/public/simple/\n",
            "Requirement already satisfied: HTMLrenderer in /usr/local/lib/python3.7/dist-packages (0.1.6)\n",
            "Requirement already satisfied: ensure==1.0.2 in /usr/local/lib/python3.7/dist-packages (from HTMLrenderer) (1.0.2)\n",
            "Requirement already satisfied: py-youtube==1.1.7 in /usr/local/lib/python3.7/dist-packages (from HTMLrenderer) (1.1.7)\n",
            "Requirement already satisfied: six>=1.11.0 in /usr/local/lib/python3.7/dist-packages (from ensure==1.0.2->HTMLrenderer) (1.15.0)\n"
          ]
        }
      ]
    },
    {
      "cell_type": "code",
      "source": [
        "from HTMLrenderer.render import render_site, render_YouTube_video\n",
        "URL=\"https://www.pytorchlightning.ai/\"\n",
        "render_site(URL)"
      ],
      "metadata": {
        "colab": {
          "base_uri": "https://localhost:8080/",
          "height": 339
        },
        "id": "UAw21vvgL6BG",
        "outputId": "3bcc69ef-742c-4cb4-d10b-c97a7a72fc0d"
      },
      "execution_count": 40,
      "outputs": [
        {
          "output_type": "error",
          "ename": "ModuleNotFoundError",
          "evalue": "ignored",
          "traceback": [
            "\u001b[0;31m---------------------------------------------------------------------------\u001b[0m",
            "\u001b[0;31mModuleNotFoundError\u001b[0m                       Traceback (most recent call last)",
            "\u001b[0;32m<ipython-input-40-8c90ce87c7d5>\u001b[0m in \u001b[0;36m<module>\u001b[0;34m\u001b[0m\n\u001b[0;32m----> 1\u001b[0;31m \u001b[0;32mfrom\u001b[0m \u001b[0mHTMLrenderer\u001b[0m\u001b[0;34m.\u001b[0m\u001b[0mrender\u001b[0m \u001b[0;32mimport\u001b[0m \u001b[0mrender_site\u001b[0m\u001b[0;34m,\u001b[0m \u001b[0mrender_YouTube_video\u001b[0m\u001b[0;34m\u001b[0m\u001b[0;34m\u001b[0m\u001b[0m\n\u001b[0m\u001b[1;32m      2\u001b[0m \u001b[0mURL\u001b[0m\u001b[0;34m=\u001b[0m\u001b[0;34m\"https://www.pytorchlightning.ai/\"\u001b[0m\u001b[0;34m\u001b[0m\u001b[0;34m\u001b[0m\u001b[0m\n\u001b[1;32m      3\u001b[0m \u001b[0mrender_site\u001b[0m\u001b[0;34m(\u001b[0m\u001b[0mURL\u001b[0m\u001b[0;34m)\u001b[0m\u001b[0;34m\u001b[0m\u001b[0;34m\u001b[0m\u001b[0m\n",
            "\u001b[0;31mModuleNotFoundError\u001b[0m: No module named 'HTMLrenderer.render'",
            "",
            "\u001b[0;31m---------------------------------------------------------------------------\u001b[0;32m\nNOTE: If your import is failing due to a missing package, you can\nmanually install dependencies using either !pip or !apt.\n\nTo view examples of installing some common dependencies, click the\n\"Open Examples\" button below.\n\u001b[0;31m---------------------------------------------------------------------------\u001b[0m\n"
          ],
          "errorDetails": {
            "actions": [
              {
                "action": "open_url",
                "actionText": "Open Examples",
                "url": "/notebooks/snippets/importing_libraries.ipynb"
              }
            ]
          }
        }
      ]
    },
    {
      "cell_type": "code",
      "source": [],
      "metadata": {
        "id": "qCrkmj11MeTn"
      },
      "execution_count": null,
      "outputs": []
    },
    {
      "cell_type": "markdown",
      "source": [
        "# https://www.pytorchlightning.ai/"
      ],
      "metadata": {
        "id": "uUQ0WnFoNFx1"
      }
    },
    {
      "cell_type": "markdown",
      "source": [
        "Download and use pre-trained model for transferlearning"
      ],
      "metadata": {
        "id": "wq6u26YaO6Cg"
      }
    },
    {
      "cell_type": "code",
      "source": [
        "model = models.alexnet(pretrained=True) # Imagenet dataset 1000"
      ],
      "metadata": {
        "colab": {
          "base_uri": "https://localhost:8080/",
          "height": 156,
          "referenced_widgets": [
            "a9d1578f84884fd583ea67a15e1c7fb3",
            "aed02323411442a88929a47478c75709",
            "7b5d296a379e46199d88cb4aa8cf2566",
            "2f0eebc55d114310ab8929c4514fd0d0",
            "5ad10bdf650e4e00ac083abac940c6ed",
            "91ed29cf9be7418bad2bb9d5c33e6751",
            "b4280b62a135492faedefc3c382e9235",
            "dea46e8a2c6140fdae4d8678f4eb7ad5",
            "7f6b4871f36e47ee91c701353678bfb2",
            "ae02124a22224dea9dbb7fc0a5edee06",
            "a6a72b76ec3543199f540ff821aab740"
          ]
        },
        "id": "2jIBIUlONGlF",
        "outputId": "dab3531e-4c7a-4a4b-b173-68a9d13a8420"
      },
      "execution_count": 41,
      "outputs": [
        {
          "output_type": "stream",
          "name": "stderr",
          "text": [
            "/usr/local/lib/python3.7/dist-packages/torchvision/models/_utils.py:209: UserWarning: The parameter 'pretrained' is deprecated since 0.13 and will be removed in 0.15, please use 'weights' instead.\n",
            "  f\"The parameter '{pretrained_param}' is deprecated since 0.13 and will be removed in 0.15, \"\n",
            "/usr/local/lib/python3.7/dist-packages/torchvision/models/_utils.py:223: UserWarning: Arguments other than a weight enum or `None` for 'weights' are deprecated since 0.13 and will be removed in 0.15. The current behavior is equivalent to passing `weights=AlexNet_Weights.IMAGENET1K_V1`. You can also use `weights=AlexNet_Weights.DEFAULT` to get the most up-to-date weights.\n",
            "  warnings.warn(msg)\n",
            "Downloading: \"https://download.pytorch.org/models/alexnet-owt-7be5be79.pth\" to /root/.cache/torch/hub/checkpoints/alexnet-owt-7be5be79.pth\n"
          ]
        },
        {
          "output_type": "display_data",
          "data": {
            "text/plain": [
              "  0%|          | 0.00/233M [00:00<?, ?B/s]"
            ],
            "application/vnd.jupyter.widget-view+json": {
              "version_major": 2,
              "version_minor": 0,
              "model_id": "a9d1578f84884fd583ea67a15e1c7fb3"
            }
          },
          "metadata": {}
        }
      ]
    },
    {
      "cell_type": "code",
      "source": [
        "print(model)"
      ],
      "metadata": {
        "id": "hzjrfmDSO3jN",
        "outputId": "56788362-3ec3-4865-9568-854ef4be7995",
        "colab": {
          "base_uri": "https://localhost:8080/"
        }
      },
      "execution_count": 42,
      "outputs": [
        {
          "output_type": "stream",
          "name": "stdout",
          "text": [
            "AlexNet(\n",
            "  (features): Sequential(\n",
            "    (0): Conv2d(3, 64, kernel_size=(11, 11), stride=(4, 4), padding=(2, 2))\n",
            "    (1): ReLU(inplace=True)\n",
            "    (2): MaxPool2d(kernel_size=3, stride=2, padding=0, dilation=1, ceil_mode=False)\n",
            "    (3): Conv2d(64, 192, kernel_size=(5, 5), stride=(1, 1), padding=(2, 2))\n",
            "    (4): ReLU(inplace=True)\n",
            "    (5): MaxPool2d(kernel_size=3, stride=2, padding=0, dilation=1, ceil_mode=False)\n",
            "    (6): Conv2d(192, 384, kernel_size=(3, 3), stride=(1, 1), padding=(1, 1))\n",
            "    (7): ReLU(inplace=True)\n",
            "    (8): Conv2d(384, 256, kernel_size=(3, 3), stride=(1, 1), padding=(1, 1))\n",
            "    (9): ReLU(inplace=True)\n",
            "    (10): Conv2d(256, 256, kernel_size=(3, 3), stride=(1, 1), padding=(1, 1))\n",
            "    (11): ReLU(inplace=True)\n",
            "    (12): MaxPool2d(kernel_size=3, stride=2, padding=0, dilation=1, ceil_mode=False)\n",
            "  )\n",
            "  (avgpool): AdaptiveAvgPool2d(output_size=(6, 6))\n",
            "  (classifier): Sequential(\n",
            "    (0): Dropout(p=0.5, inplace=False)\n",
            "    (1): Linear(in_features=9216, out_features=4096, bias=True)\n",
            "    (2): ReLU(inplace=True)\n",
            "    (3): Dropout(p=0.5, inplace=False)\n",
            "    (4): Linear(in_features=4096, out_features=4096, bias=True)\n",
            "    (5): ReLU(inplace=True)\n",
            "    (6): Linear(in_features=4096, out_features=1000, bias=True)\n",
            "  )\n",
            ")\n"
          ]
        }
      ]
    },
    {
      "cell_type": "markdown",
      "source": [
        "Count the no. of trainable parameters"
      ],
      "metadata": {
        "id": "eXI_1woOPHO5"
      }
    },
    {
      "cell_type": "code",
      "source": [
        "def count_params(model):\n",
        "  model_params = {\"Modules\": list(), \"Parameters\": list()}\n",
        "  total = {\"trainable\": 0, \"non_trainable\": 0} \n",
        "  for name, parameters in model.named_parameters():\n",
        "    param = parameters.numel()\n",
        "    if not parameters.requires_grad:\n",
        "      total[\"non_trainable\"] += param\n",
        "      continue\n",
        "    model_params[\"Modules\"].append(name)\n",
        "    model_params[\"Parameters\"].append(param)\n",
        "    total[\"trainable\"] += param\n",
        "  df = pd.DataFrame(model_params)\n",
        "  df = df.style.set_caption(f\"Total parameters: {total}\")\n",
        "  return df\n",
        "\n",
        "count_params(model)"
      ],
      "metadata": {
        "id": "mOsKOFkjO-2x",
        "outputId": "30170fed-5f15-4212-c77b-00e29fcb4c8b",
        "colab": {
          "base_uri": "https://localhost:8080/",
          "height": 586
        }
      },
      "execution_count": 43,
      "outputs": [
        {
          "output_type": "execute_result",
          "data": {
            "text/plain": [
              "<pandas.io.formats.style.Styler at 0x7fae1056ea50>"
            ],
            "text/html": [
              "<style type=\"text/css\">\n",
              "</style>\n",
              "<table id=\"T_86ded_\" class=\"dataframe\">\n",
              "  <caption>Total parameters: {'trainable': 61100840, 'non_trainable': 0}</caption>\n",
              "  <thead>\n",
              "    <tr>\n",
              "      <th class=\"blank level0\" >&nbsp;</th>\n",
              "      <th class=\"col_heading level0 col0\" >Modules</th>\n",
              "      <th class=\"col_heading level0 col1\" >Parameters</th>\n",
              "    </tr>\n",
              "  </thead>\n",
              "  <tbody>\n",
              "    <tr>\n",
              "      <th id=\"T_86ded_level0_row0\" class=\"row_heading level0 row0\" >0</th>\n",
              "      <td id=\"T_86ded_row0_col0\" class=\"data row0 col0\" >features.0.weight</td>\n",
              "      <td id=\"T_86ded_row0_col1\" class=\"data row0 col1\" >23232</td>\n",
              "    </tr>\n",
              "    <tr>\n",
              "      <th id=\"T_86ded_level0_row1\" class=\"row_heading level0 row1\" >1</th>\n",
              "      <td id=\"T_86ded_row1_col0\" class=\"data row1 col0\" >features.0.bias</td>\n",
              "      <td id=\"T_86ded_row1_col1\" class=\"data row1 col1\" >64</td>\n",
              "    </tr>\n",
              "    <tr>\n",
              "      <th id=\"T_86ded_level0_row2\" class=\"row_heading level0 row2\" >2</th>\n",
              "      <td id=\"T_86ded_row2_col0\" class=\"data row2 col0\" >features.3.weight</td>\n",
              "      <td id=\"T_86ded_row2_col1\" class=\"data row2 col1\" >307200</td>\n",
              "    </tr>\n",
              "    <tr>\n",
              "      <th id=\"T_86ded_level0_row3\" class=\"row_heading level0 row3\" >3</th>\n",
              "      <td id=\"T_86ded_row3_col0\" class=\"data row3 col0\" >features.3.bias</td>\n",
              "      <td id=\"T_86ded_row3_col1\" class=\"data row3 col1\" >192</td>\n",
              "    </tr>\n",
              "    <tr>\n",
              "      <th id=\"T_86ded_level0_row4\" class=\"row_heading level0 row4\" >4</th>\n",
              "      <td id=\"T_86ded_row4_col0\" class=\"data row4 col0\" >features.6.weight</td>\n",
              "      <td id=\"T_86ded_row4_col1\" class=\"data row4 col1\" >663552</td>\n",
              "    </tr>\n",
              "    <tr>\n",
              "      <th id=\"T_86ded_level0_row5\" class=\"row_heading level0 row5\" >5</th>\n",
              "      <td id=\"T_86ded_row5_col0\" class=\"data row5 col0\" >features.6.bias</td>\n",
              "      <td id=\"T_86ded_row5_col1\" class=\"data row5 col1\" >384</td>\n",
              "    </tr>\n",
              "    <tr>\n",
              "      <th id=\"T_86ded_level0_row6\" class=\"row_heading level0 row6\" >6</th>\n",
              "      <td id=\"T_86ded_row6_col0\" class=\"data row6 col0\" >features.8.weight</td>\n",
              "      <td id=\"T_86ded_row6_col1\" class=\"data row6 col1\" >884736</td>\n",
              "    </tr>\n",
              "    <tr>\n",
              "      <th id=\"T_86ded_level0_row7\" class=\"row_heading level0 row7\" >7</th>\n",
              "      <td id=\"T_86ded_row7_col0\" class=\"data row7 col0\" >features.8.bias</td>\n",
              "      <td id=\"T_86ded_row7_col1\" class=\"data row7 col1\" >256</td>\n",
              "    </tr>\n",
              "    <tr>\n",
              "      <th id=\"T_86ded_level0_row8\" class=\"row_heading level0 row8\" >8</th>\n",
              "      <td id=\"T_86ded_row8_col0\" class=\"data row8 col0\" >features.10.weight</td>\n",
              "      <td id=\"T_86ded_row8_col1\" class=\"data row8 col1\" >589824</td>\n",
              "    </tr>\n",
              "    <tr>\n",
              "      <th id=\"T_86ded_level0_row9\" class=\"row_heading level0 row9\" >9</th>\n",
              "      <td id=\"T_86ded_row9_col0\" class=\"data row9 col0\" >features.10.bias</td>\n",
              "      <td id=\"T_86ded_row9_col1\" class=\"data row9 col1\" >256</td>\n",
              "    </tr>\n",
              "    <tr>\n",
              "      <th id=\"T_86ded_level0_row10\" class=\"row_heading level0 row10\" >10</th>\n",
              "      <td id=\"T_86ded_row10_col0\" class=\"data row10 col0\" >classifier.1.weight</td>\n",
              "      <td id=\"T_86ded_row10_col1\" class=\"data row10 col1\" >37748736</td>\n",
              "    </tr>\n",
              "    <tr>\n",
              "      <th id=\"T_86ded_level0_row11\" class=\"row_heading level0 row11\" >11</th>\n",
              "      <td id=\"T_86ded_row11_col0\" class=\"data row11 col0\" >classifier.1.bias</td>\n",
              "      <td id=\"T_86ded_row11_col1\" class=\"data row11 col1\" >4096</td>\n",
              "    </tr>\n",
              "    <tr>\n",
              "      <th id=\"T_86ded_level0_row12\" class=\"row_heading level0 row12\" >12</th>\n",
              "      <td id=\"T_86ded_row12_col0\" class=\"data row12 col0\" >classifier.4.weight</td>\n",
              "      <td id=\"T_86ded_row12_col1\" class=\"data row12 col1\" >16777216</td>\n",
              "    </tr>\n",
              "    <tr>\n",
              "      <th id=\"T_86ded_level0_row13\" class=\"row_heading level0 row13\" >13</th>\n",
              "      <td id=\"T_86ded_row13_col0\" class=\"data row13 col0\" >classifier.4.bias</td>\n",
              "      <td id=\"T_86ded_row13_col1\" class=\"data row13 col1\" >4096</td>\n",
              "    </tr>\n",
              "    <tr>\n",
              "      <th id=\"T_86ded_level0_row14\" class=\"row_heading level0 row14\" >14</th>\n",
              "      <td id=\"T_86ded_row14_col0\" class=\"data row14 col0\" >classifier.6.weight</td>\n",
              "      <td id=\"T_86ded_row14_col1\" class=\"data row14 col1\" >4096000</td>\n",
              "    </tr>\n",
              "    <tr>\n",
              "      <th id=\"T_86ded_level0_row15\" class=\"row_heading level0 row15\" >15</th>\n",
              "      <td id=\"T_86ded_row15_col0\" class=\"data row15 col0\" >classifier.6.bias</td>\n",
              "      <td id=\"T_86ded_row15_col1\" class=\"data row15 col1\" >1000</td>\n",
              "    </tr>\n",
              "  </tbody>\n",
              "</table>\n"
            ]
          },
          "metadata": {},
          "execution_count": 43
        }
      ]
    },
    {
      "cell_type": "code",
      "source": [
        "# Freeze all the layers\n",
        "\n",
        "for parameters in model.parameters():\n",
        "  parameters.requires_grad = False"
      ],
      "metadata": {
        "id": "_9NuhTecPJUu"
      },
      "execution_count": 44,
      "outputs": []
    },
    {
      "cell_type": "code",
      "source": [
        "count_params(model)"
      ],
      "metadata": {
        "id": "Ycd0rfVdPaoC",
        "outputId": "c57d3eb8-9b43-43a6-ac55-bfee9fc5060c",
        "colab": {
          "base_uri": "https://localhost:8080/",
          "height": 84
        }
      },
      "execution_count": 45,
      "outputs": [
        {
          "output_type": "execute_result",
          "data": {
            "text/plain": [
              "<pandas.io.formats.style.Styler at 0x7fadfda87c90>"
            ],
            "text/html": [
              "<style type=\"text/css\">\n",
              "</style>\n",
              "<table id=\"T_27898_\" class=\"dataframe\">\n",
              "  <caption>Total parameters: {'trainable': 0, 'non_trainable': 61100840}</caption>\n",
              "  <thead>\n",
              "    <tr>\n",
              "      <th class=\"blank level0\" >&nbsp;</th>\n",
              "      <th class=\"col_heading level0 col0\" >Modules</th>\n",
              "      <th class=\"col_heading level0 col1\" >Parameters</th>\n",
              "    </tr>\n",
              "  </thead>\n",
              "  <tbody>\n",
              "  </tbody>\n",
              "</table>\n"
            ]
          },
          "metadata": {},
          "execution_count": 45
        }
      ]
    },
    {
      "cell_type": "code",
      "source": [
        "model.classifier"
      ],
      "metadata": {
        "id": "VncMi663P34o",
        "outputId": "ed9703cb-83d2-40ab-bee2-05f7d270f6a6",
        "colab": {
          "base_uri": "https://localhost:8080/"
        }
      },
      "execution_count": 46,
      "outputs": [
        {
          "output_type": "execute_result",
          "data": {
            "text/plain": [
              "Sequential(\n",
              "  (0): Dropout(p=0.5, inplace=False)\n",
              "  (1): Linear(in_features=9216, out_features=4096, bias=True)\n",
              "  (2): ReLU(inplace=True)\n",
              "  (3): Dropout(p=0.5, inplace=False)\n",
              "  (4): Linear(in_features=4096, out_features=4096, bias=True)\n",
              "  (5): ReLU(inplace=True)\n",
              "  (6): Linear(in_features=4096, out_features=1000, bias=True)\n",
              ")"
            ]
          },
          "metadata": {},
          "execution_count": 46
        }
      ]
    },
    {
      "cell_type": "code",
      "source": [
        "model.classifier = nn.Sequential(\n",
        "    nn.Linear(in_features=9216, out_features=100, bias=True),\n",
        "    nn.ReLU(inplace=True),\n",
        "    nn.Dropout(p=0.5, inplace=False),\n",
        "    nn.Linear(in_features=100, out_features=2, bias=True)\n",
        ")"
      ],
      "metadata": {
        "id": "jwgOoRYmP6Ih"
      },
      "execution_count": 47,
      "outputs": []
    },
    {
      "cell_type": "code",
      "source": [
        "print(model)"
      ],
      "metadata": {
        "id": "rY2Ouk74Q6v_",
        "outputId": "71db9aa3-f742-43ef-e7e7-604f4ca000d7",
        "colab": {
          "base_uri": "https://localhost:8080/"
        }
      },
      "execution_count": 48,
      "outputs": [
        {
          "output_type": "stream",
          "name": "stdout",
          "text": [
            "AlexNet(\n",
            "  (features): Sequential(\n",
            "    (0): Conv2d(3, 64, kernel_size=(11, 11), stride=(4, 4), padding=(2, 2))\n",
            "    (1): ReLU(inplace=True)\n",
            "    (2): MaxPool2d(kernel_size=3, stride=2, padding=0, dilation=1, ceil_mode=False)\n",
            "    (3): Conv2d(64, 192, kernel_size=(5, 5), stride=(1, 1), padding=(2, 2))\n",
            "    (4): ReLU(inplace=True)\n",
            "    (5): MaxPool2d(kernel_size=3, stride=2, padding=0, dilation=1, ceil_mode=False)\n",
            "    (6): Conv2d(192, 384, kernel_size=(3, 3), stride=(1, 1), padding=(1, 1))\n",
            "    (7): ReLU(inplace=True)\n",
            "    (8): Conv2d(384, 256, kernel_size=(3, 3), stride=(1, 1), padding=(1, 1))\n",
            "    (9): ReLU(inplace=True)\n",
            "    (10): Conv2d(256, 256, kernel_size=(3, 3), stride=(1, 1), padding=(1, 1))\n",
            "    (11): ReLU(inplace=True)\n",
            "    (12): MaxPool2d(kernel_size=3, stride=2, padding=0, dilation=1, ceil_mode=False)\n",
            "  )\n",
            "  (avgpool): AdaptiveAvgPool2d(output_size=(6, 6))\n",
            "  (classifier): Sequential(\n",
            "    (0): Linear(in_features=9216, out_features=100, bias=True)\n",
            "    (1): ReLU(inplace=True)\n",
            "    (2): Dropout(p=0.5, inplace=False)\n",
            "    (3): Linear(in_features=100, out_features=2, bias=True)\n",
            "  )\n",
            ")\n"
          ]
        }
      ]
    },
    {
      "cell_type": "code",
      "source": [
        "count_params(model)"
      ],
      "metadata": {
        "id": "w5pq0jSpQ8jT",
        "outputId": "55813d93-9542-47b7-c65b-7833ba324f7f",
        "colab": {
          "base_uri": "https://localhost:8080/",
          "height": 209
        }
      },
      "execution_count": 49,
      "outputs": [
        {
          "output_type": "execute_result",
          "data": {
            "text/plain": [
              "<pandas.io.formats.style.Styler at 0x7fadfbe204d0>"
            ],
            "text/html": [
              "<style type=\"text/css\">\n",
              "</style>\n",
              "<table id=\"T_70ace_\" class=\"dataframe\">\n",
              "  <caption>Total parameters: {'trainable': 921902, 'non_trainable': 2469696}</caption>\n",
              "  <thead>\n",
              "    <tr>\n",
              "      <th class=\"blank level0\" >&nbsp;</th>\n",
              "      <th class=\"col_heading level0 col0\" >Modules</th>\n",
              "      <th class=\"col_heading level0 col1\" >Parameters</th>\n",
              "    </tr>\n",
              "  </thead>\n",
              "  <tbody>\n",
              "    <tr>\n",
              "      <th id=\"T_70ace_level0_row0\" class=\"row_heading level0 row0\" >0</th>\n",
              "      <td id=\"T_70ace_row0_col0\" class=\"data row0 col0\" >classifier.0.weight</td>\n",
              "      <td id=\"T_70ace_row0_col1\" class=\"data row0 col1\" >921600</td>\n",
              "    </tr>\n",
              "    <tr>\n",
              "      <th id=\"T_70ace_level0_row1\" class=\"row_heading level0 row1\" >1</th>\n",
              "      <td id=\"T_70ace_row1_col0\" class=\"data row1 col0\" >classifier.0.bias</td>\n",
              "      <td id=\"T_70ace_row1_col1\" class=\"data row1 col1\" >100</td>\n",
              "    </tr>\n",
              "    <tr>\n",
              "      <th id=\"T_70ace_level0_row2\" class=\"row_heading level0 row2\" >2</th>\n",
              "      <td id=\"T_70ace_row2_col0\" class=\"data row2 col0\" >classifier.3.weight</td>\n",
              "      <td id=\"T_70ace_row2_col1\" class=\"data row2 col1\" >200</td>\n",
              "    </tr>\n",
              "    <tr>\n",
              "      <th id=\"T_70ace_level0_row3\" class=\"row_heading level0 row3\" >3</th>\n",
              "      <td id=\"T_70ace_row3_col0\" class=\"data row3 col0\" >classifier.3.bias</td>\n",
              "      <td id=\"T_70ace_row3_col1\" class=\"data row3 col1\" >2</td>\n",
              "    </tr>\n",
              "  </tbody>\n",
              "</table>\n"
            ]
          },
          "metadata": {},
          "execution_count": 49
        }
      ]
    },
    {
      "cell_type": "markdown",
      "source": [
        "Training loop"
      ],
      "metadata": {
        "id": "WbiwrBSwRBnL"
      }
    },
    {
      "cell_type": "code",
      "source": [
        "model.to(config.DEVICE)"
      ],
      "metadata": {
        "id": "ocRQ1i7TQ_CU",
        "outputId": "e261a124-816f-4ed5-d02c-dfa1a809b3d9",
        "colab": {
          "base_uri": "https://localhost:8080/"
        }
      },
      "execution_count": 50,
      "outputs": [
        {
          "output_type": "execute_result",
          "data": {
            "text/plain": [
              "AlexNet(\n",
              "  (features): Sequential(\n",
              "    (0): Conv2d(3, 64, kernel_size=(11, 11), stride=(4, 4), padding=(2, 2))\n",
              "    (1): ReLU(inplace=True)\n",
              "    (2): MaxPool2d(kernel_size=3, stride=2, padding=0, dilation=1, ceil_mode=False)\n",
              "    (3): Conv2d(64, 192, kernel_size=(5, 5), stride=(1, 1), padding=(2, 2))\n",
              "    (4): ReLU(inplace=True)\n",
              "    (5): MaxPool2d(kernel_size=3, stride=2, padding=0, dilation=1, ceil_mode=False)\n",
              "    (6): Conv2d(192, 384, kernel_size=(3, 3), stride=(1, 1), padding=(1, 1))\n",
              "    (7): ReLU(inplace=True)\n",
              "    (8): Conv2d(384, 256, kernel_size=(3, 3), stride=(1, 1), padding=(1, 1))\n",
              "    (9): ReLU(inplace=True)\n",
              "    (10): Conv2d(256, 256, kernel_size=(3, 3), stride=(1, 1), padding=(1, 1))\n",
              "    (11): ReLU(inplace=True)\n",
              "    (12): MaxPool2d(kernel_size=3, stride=2, padding=0, dilation=1, ceil_mode=False)\n",
              "  )\n",
              "  (avgpool): AdaptiveAvgPool2d(output_size=(6, 6))\n",
              "  (classifier): Sequential(\n",
              "    (0): Linear(in_features=9216, out_features=100, bias=True)\n",
              "    (1): ReLU(inplace=True)\n",
              "    (2): Dropout(p=0.5, inplace=False)\n",
              "    (3): Linear(in_features=100, out_features=2, bias=True)\n",
              "  )\n",
              ")"
            ]
          },
          "metadata": {},
          "execution_count": 50
        }
      ]
    },
    {
      "cell_type": "code",
      "source": [
        "criterion = nn.CrossEntropyLoss()\n",
        "optimizer = torch.optim.Adam(model.parameters())"
      ],
      "metadata": {
        "id": "kOzi9nNGRD4O"
      },
      "execution_count": 51,
      "outputs": []
    },
    {
      "cell_type": "code",
      "source": [
        "for epoch in range(config.EPOCH):\n",
        "  with tqdm(train_loader) as tqdm_epoch:\n",
        "    for images, labels in tqdm_epoch:\n",
        "      tqdm_epoch.set_description(f\"Epoch {epoch + 1}/{config.EPOCH}\")\n",
        "\n",
        "      images = images.to(config.DEVICE)\n",
        "      labels = labels.to(config.DEVICE)\n",
        "\n",
        "      # forward pass\n",
        "      outputs = model(images)\n",
        "      loss = criterion(outputs, labels)\n",
        "\n",
        "      # backward pass\n",
        "      optimizer.zero_grad()\n",
        "      loss.backward()\n",
        "      optimizer.step()\n",
        "\n",
        "      tqdm_epoch.set_postfix(loss= loss.item())\n",
        "      \n",
        "\n",
        "#tqdm is a library in Python which is used for creating Progress Meters or Progress Bars"
      ],
      "metadata": {
        "id": "xlEpN-h2RJk6",
        "outputId": "64c962f9-c858-4355-ca5d-7c516588282e",
        "colab": {
          "base_uri": "https://localhost:8080/"
        }
      },
      "execution_count": 52,
      "outputs": [
        {
          "output_type": "stream",
          "name": "stderr",
          "text": [
            "Epoch 1/10: 100%|██████████| 8/8 [00:07<00:00,  1.04it/s, loss=0.544]\n",
            "Epoch 2/10: 100%|██████████| 8/8 [00:01<00:00,  4.16it/s, loss=0.253]\n",
            "Epoch 3/10: 100%|██████████| 8/8 [00:01<00:00,  4.14it/s, loss=0.418]\n",
            "Epoch 4/10: 100%|██████████| 8/8 [00:01<00:00,  4.26it/s, loss=0.129]\n",
            "Epoch 5/10: 100%|██████████| 8/8 [00:02<00:00,  3.74it/s, loss=0.128]\n",
            "Epoch 6/10: 100%|██████████| 8/8 [00:02<00:00,  3.93it/s, loss=0.111]\n",
            "Epoch 7/10: 100%|██████████| 8/8 [00:01<00:00,  4.07it/s, loss=0.285]\n",
            "Epoch 8/10: 100%|██████████| 8/8 [00:01<00:00,  4.26it/s, loss=0.0802]\n",
            "Epoch 9/10: 100%|██████████| 8/8 [00:02<00:00,  2.88it/s, loss=0.197]\n",
            "Epoch 10/10: 100%|██████████| 8/8 [00:02<00:00,  3.97it/s, loss=0.0477]\n"
          ]
        }
      ]
    },
    {
      "cell_type": "code",
      "source": [
        "os.makedirs(\"model_dir_2\", exist_ok=True)\n",
        "model_file_path = os.path.join(\"model_dir_2\", \"CNN_ALEXNET_model.pth\")\n",
        "torch.save(model, model_file_path)"
      ],
      "metadata": {
        "id": "sl1oMGWMTVIK"
      },
      "execution_count": 53,
      "outputs": []
    },
    {
      "cell_type": "markdown",
      "source": [
        "Evaluate our model"
      ],
      "metadata": {
        "id": "fePgdMhCTbQj"
      }
    },
    {
      "cell_type": "code",
      "source": [
        "pred = np.array([])\n",
        "target = np.array([])\n",
        "\n",
        "with torch.no_grad():\n",
        "  for batch, data in enumerate(test_loader):\n",
        "    images = data[0].to(config.DEVICE)\n",
        "    labels = data[1].to(config.DEVICE)\n",
        "\n",
        "    y_pred = model(images)\n",
        "\n",
        "    pred = np.concatenate((pred, torch.argmax(y_pred, 1).cpu().numpy()))\n",
        "    target = np.concatenate((target, labels.cpu().numpy()))"
      ],
      "metadata": {
        "id": "Y55CwgmsTZWD"
      },
      "execution_count": 54,
      "outputs": []
    },
    {
      "cell_type": "code",
      "source": [
        "cm = confusion_matrix(target, pred)"
      ],
      "metadata": {
        "id": "Uvykxt4UTdb9"
      },
      "execution_count": 55,
      "outputs": []
    },
    {
      "cell_type": "code",
      "source": [
        "label_map"
      ],
      "metadata": {
        "id": "iJwc8xTeTlpw",
        "outputId": "80b39b9d-947e-4efc-b4b7-f6d97bfc4694",
        "colab": {
          "base_uri": "https://localhost:8080/"
        }
      },
      "execution_count": 56,
      "outputs": [
        {
          "output_type": "execute_result",
          "data": {
            "text/plain": [
              "{'ants': 0, 'bees': 1}"
            ]
          },
          "metadata": {},
          "execution_count": 56
        }
      ]
    },
    {
      "cell_type": "code",
      "source": [
        "sns.heatmap(cm, annot=True, fmt='d', xticklabels=label_map.keys() , yticklabels=label_map.keys(), cbar=False)"
      ],
      "metadata": {
        "id": "CfJKhtC2TqRG",
        "outputId": "9aad83dd-44a4-45af-e78c-0f37fbc5c01c",
        "colab": {
          "base_uri": "https://localhost:8080/",
          "height": 282
        }
      },
      "execution_count": 57,
      "outputs": [
        {
          "output_type": "execute_result",
          "data": {
            "text/plain": [
              "<matplotlib.axes._subplots.AxesSubplot at 0x7fadfa34d0d0>"
            ]
          },
          "metadata": {},
          "execution_count": 57
        },
        {
          "output_type": "display_data",
          "data": {
            "text/plain": [
              "<Figure size 432x288 with 1 Axes>"
            ],
            "image/png": "[encoded data removed]"
          },
          "metadata": {
            "needs_background": "light"
          }
        }
      ]
    },
    {
      "cell_type": "code",
      "source": [
        "data = next(iter(test_loader))\n",
        "data"
      ],
      "metadata": {
        "id": "dYgm3pQHTtIs",
        "outputId": "30398185-aaa2-4f62-a7ac-551ea6e31e19",
        "colab": {
          "base_uri": "https://localhost:8080/"
        }
      },
      "execution_count": 58,
      "outputs": [
        {
          "output_type": "execute_result",
          "data": {
            "text/plain": [
              "[tensor([[[[ 0.6078,  0.5765,  0.7176,  ...,  0.4275,  0.3490,  0.2784],\n",
              "           [ 0.4667,  0.5373,  0.6078,  ...,  0.4353,  0.4353,  0.3176],\n",
              "           [ 0.5294,  0.5529,  0.4902,  ...,  0.3569,  0.3569,  0.3569],\n",
              "           ...,\n",
              "           [ 0.0980,  0.3490,  0.6941,  ...,  0.2392,  0.2863,  0.6078],\n",
              "           [ 0.2863,  0.4588,  0.6157,  ...,  0.0667,  0.1059,  0.1922],\n",
              "           [ 0.2706,  0.3961,  0.5294,  ...,  0.0275,  0.2549,  0.0902]],\n",
              " \n",
              "          [[ 0.9216,  0.8275,  0.8980,  ...,  0.7412,  0.5686,  0.4667],\n",
              "           [ 0.8353,  0.8745,  0.8980,  ...,  0.7490,  0.6314,  0.4902],\n",
              "           [ 0.8196,  0.8588,  0.7961,  ...,  0.6706,  0.6157,  0.6157],\n",
              "           ...,\n",
              "           [ 0.3255,  0.4510,  0.8588,  ...,  0.3569,  0.4196,  0.7255],\n",
              "           [ 0.5686,  0.6000,  0.8118,  ...,  0.1843,  0.2392,  0.2549],\n",
              "           [ 0.5059,  0.6314,  0.7961,  ...,  0.1294,  0.4196,  0.1529]],\n",
              " \n",
              "          [[ 0.9843,  0.8902,  0.9216,  ...,  0.7961,  0.6549,  0.4275],\n",
              "           [ 0.8667,  0.9059,  0.9216,  ...,  0.7725,  0.7412,  0.5216],\n",
              "           [ 0.8667,  0.8902,  0.8667,  ...,  0.6863,  0.7176,  0.6863],\n",
              "           ...,\n",
              "           [ 0.3961,  0.5922,  0.8902,  ..., -0.1059,  0.2157,  0.5608],\n",
              "           [ 0.6235,  0.7333,  0.8353,  ..., -0.2941, -0.2235, -0.1765],\n",
              "           [ 0.6078,  0.7647,  0.8275,  ..., -0.3412, -0.1137, -0.3098]]],\n",
              " \n",
              " \n",
              "         [[[ 0.2078,  0.1922,  0.1686,  ..., -0.0667, -0.0588, -0.0353],\n",
              "           [ 0.1922,  0.1765,  0.1529,  ..., -0.0510, -0.0510, -0.0431],\n",
              "           [ 0.1922,  0.1765,  0.1529,  ..., -0.0275, -0.0431, -0.0431],\n",
              "           ...,\n",
              "           [-0.2392, -0.2235, -0.2157,  ...,  0.0824,  0.0902,  0.0902],\n",
              "           [-0.1922, -0.1765, -0.1765,  ...,  0.0745,  0.0980,  0.1137],\n",
              "           [-0.1922, -0.1765, -0.1608,  ...,  0.0588,  0.0824,  0.1059]],\n",
              " \n",
              "          [[ 0.0667,  0.0667,  0.0510,  ..., -0.1451, -0.1373, -0.1137],\n",
              "           [ 0.0510,  0.0510,  0.0275,  ..., -0.1451, -0.1294, -0.1216],\n",
              "           [ 0.0510,  0.0431,  0.0118,  ..., -0.1294, -0.1294, -0.1216],\n",
              "           ...,\n",
              "           [-0.3490, -0.3333, -0.3333,  ..., -0.0980, -0.0824, -0.0745],\n",
              "           [-0.3020, -0.3020, -0.3020,  ..., -0.0902, -0.0902, -0.0902],\n",
              "           [-0.2941, -0.3176, -0.2941,  ..., -0.0902, -0.0902, -0.0824]],\n",
              " \n",
              "          [[-0.0431, -0.0510, -0.0588,  ..., -0.2157, -0.2078, -0.1843],\n",
              "           [-0.0588, -0.0745, -0.0902,  ..., -0.2157, -0.2000, -0.1922],\n",
              "           [-0.0667, -0.0824, -0.1137,  ..., -0.2000, -0.2000, -0.1922],\n",
              "           ...,\n",
              "           [-0.4353, -0.4353, -0.4353,  ..., -0.2392, -0.2314, -0.2549],\n",
              "           [-0.3961, -0.4118, -0.4196,  ..., -0.2549, -0.2627, -0.2549],\n",
              "           [-0.3882, -0.4118, -0.4118,  ..., -0.2784, -0.2706, -0.2627]]],\n",
              " \n",
              " \n",
              "         [[[ 0.2941,  0.3255,  0.3176,  ...,  0.3882,  0.4039,  0.3961],\n",
              "           [ 0.3098,  0.3333,  0.3255,  ...,  0.3882,  0.4039,  0.4118],\n",
              "           [ 0.3569,  0.3490,  0.3333,  ...,  0.4039,  0.3961,  0.4118],\n",
              "           ...,\n",
              "           [ 1.0000,  0.9922,  0.9922,  ...,  0.4196,  0.6392,  0.6549],\n",
              "           [ 1.0000,  0.9922,  0.9922,  ...,  0.4824,  0.5843,  0.5922],\n",
              "           [ 1.0000,  1.0000,  0.9922,  ...,  0.5294,  0.5529,  0.5608]],\n",
              " \n",
              "          [[-0.0745, -0.0353, -0.0353,  ...,  0.0510,  0.0588,  0.0667],\n",
              "           [-0.0431, -0.0275, -0.0275,  ...,  0.0510,  0.0588,  0.0588],\n",
              "           [-0.0275, -0.0275, -0.0353,  ...,  0.0667,  0.0667,  0.0824],\n",
              "           ...,\n",
              "           [-0.0275, -0.0275, -0.0353,  ...,  0.0588,  0.2863,  0.3020],\n",
              "           [-0.0275, -0.0353, -0.0353,  ...,  0.0431,  0.1765,  0.1451],\n",
              "           [-0.0353, -0.0353, -0.0275,  ...,  0.1216,  0.1294,  0.0980]],\n",
              " \n",
              "          [[-0.0118,  0.0118, -0.0039,  ...,  0.1059,  0.0902,  0.1059],\n",
              "           [ 0.0196,  0.0353,  0.0118,  ...,  0.1137,  0.1137,  0.1294],\n",
              "           [ 0.0588,  0.0588,  0.0431,  ...,  0.1294,  0.1137,  0.1373],\n",
              "           ...,\n",
              "           [ 0.0824,  0.0824,  0.0745,  ...,  0.0745,  0.1608,  0.3804],\n",
              "           [ 0.0824,  0.0745,  0.0745,  ...,  0.0902,  0.1137,  0.1686],\n",
              "           [ 0.0667,  0.0745,  0.0667,  ...,  0.0431, -0.0275, -0.0510]]],\n",
              " \n",
              " \n",
              "         ...,\n",
              " \n",
              " \n",
              "         [[[-0.7020, -0.7333, -0.7333,  ...,  0.9294,  0.6784,  0.0039],\n",
              "           [-0.7255, -0.7176, -0.7255,  ...,  0.9294,  0.5922, -0.1137],\n",
              "           [-0.7176, -0.7490, -0.7412,  ...,  0.9137,  0.5059, -0.2157],\n",
              "           ...,\n",
              "           [ 0.8039,  0.8039,  0.8039,  ..., -0.5294, -0.5373, -0.5059],\n",
              "           [ 0.8039,  0.8118,  0.8118,  ..., -0.5137, -0.5294, -0.4902],\n",
              "           [ 0.8039,  0.8196,  0.8118,  ..., -0.5059, -0.5373, -0.4902]],\n",
              " \n",
              "          [[-0.4980, -0.5137, -0.5294,  ..., -0.4824, -0.6863, -0.9451],\n",
              "           [-0.5059, -0.5137, -0.5373,  ..., -0.4980, -0.7098, -0.9608],\n",
              "           [-0.5216, -0.5373, -0.5451,  ..., -0.5137, -0.7569, -0.9686],\n",
              "           ...,\n",
              "           [-0.5765, -0.5686, -0.5529,  ..., -0.2627, -0.2471, -0.2471],\n",
              "           [-0.5686, -0.5608, -0.5608,  ..., -0.2549, -0.2471, -0.2471],\n",
              "           [-0.5686, -0.5529, -0.5608,  ..., -0.2392, -0.2471, -0.2549]],\n",
              " \n",
              "          [[-0.9686, -0.9686, -0.9843,  ..., -0.9686, -0.9451, -0.9529],\n",
              "           [-0.9686, -0.9686, -0.9843,  ..., -0.9686, -0.9451, -0.9686],\n",
              "           [-0.9765, -0.9843, -0.9843,  ..., -0.9608, -0.9216, -0.9529],\n",
              "           ...,\n",
              "           [-0.9765, -0.9922, -0.9922,  ..., -0.2471, -0.2392, -0.2314],\n",
              "           [-0.9843, -0.9922, -0.9922,  ..., -0.2235, -0.2235, -0.2157],\n",
              "           [-0.9922, -0.9843, -0.9843,  ..., -0.2000, -0.2235, -0.2000]]],\n",
              " \n",
              " \n",
              "         [[[ 0.0980,  0.1216,  0.1294,  ...,  0.1451,  0.2392,  0.2471],\n",
              "           [ 0.0745,  0.0902,  0.0824,  ...,  0.1686,  0.2471,  0.2392],\n",
              "           [-0.0745, -0.0824,  0.0039,  ...,  0.2392,  0.2941,  0.2784],\n",
              "           ...,\n",
              "           [-0.2157, -0.2941, -0.2941,  ...,  0.4431,  0.5137,  0.4588],\n",
              "           [-0.2627, -0.3020, -0.2784,  ...,  0.4824,  0.5294,  0.4745],\n",
              "           [-0.2471, -0.2863, -0.2471,  ...,  0.4275,  0.4353,  0.4039]],\n",
              " \n",
              "          [[ 0.0980,  0.1216,  0.1451,  ...,  0.1765,  0.2549,  0.2706],\n",
              "           [ 0.1216,  0.1373,  0.1451,  ...,  0.2000,  0.2627,  0.2549],\n",
              "           [ 0.0667,  0.0510,  0.1216,  ...,  0.2706,  0.3098,  0.2863],\n",
              "           ...,\n",
              "           [-0.2235, -0.2784, -0.2627,  ...,  0.3961,  0.4824,  0.4353],\n",
              "           [-0.2314, -0.2627, -0.2392,  ...,  0.4196,  0.4980,  0.4588],\n",
              "           [-0.2314, -0.2471, -0.2157,  ...,  0.3412,  0.4039,  0.3961]],\n",
              " \n",
              "          [[-0.7333, -0.7176, -0.7098,  ..., -0.8667, -0.8118, -0.8039],\n",
              "           [-0.6941, -0.6863, -0.7098,  ..., -0.8275, -0.7647, -0.7647],\n",
              "           [-0.8196, -0.8353, -0.7725,  ..., -0.7569, -0.7098, -0.7176],\n",
              "           ...,\n",
              "           [-0.9843, -0.9922, -0.9843,  ..., -0.4275, -0.3569, -0.4275],\n",
              "           [-0.9686, -0.9922, -0.9686,  ..., -0.4118, -0.3255, -0.4039],\n",
              "           [-0.9529, -0.9843, -0.9373,  ..., -0.4902, -0.4196, -0.4667]]],\n",
              " \n",
              " \n",
              "         [[[-0.4667, -0.3804, -0.3882,  ..., -0.4980, -0.3490, -0.3020],\n",
              "           [-0.5451, -0.4275, -0.3020,  ..., -0.4745, -0.2314, -0.4667],\n",
              "           [-0.4196, -0.2784, -0.3961,  ..., -0.3333, -0.2235, -0.3882],\n",
              "           ...,\n",
              "           [ 0.6549,  0.5686,  0.5686,  ...,  0.5529,  0.5765,  0.5451],\n",
              "           [ 0.5608,  0.5765,  0.5373,  ...,  0.5608,  0.5529,  0.5608],\n",
              "           [ 0.5294,  0.5137,  0.5451,  ...,  0.4431,  0.4902,  0.5059]],\n",
              " \n",
              "          [[-0.2941, -0.2235, -0.3176,  ..., -0.3412, -0.2941, -0.3255],\n",
              "           [-0.3804, -0.2784, -0.2000,  ..., -0.3255, -0.2627, -0.4824],\n",
              "           [-0.2235, -0.1294, -0.2235,  ..., -0.2000, -0.2627, -0.3333],\n",
              "           ...,\n",
              "           [ 0.6157,  0.5294,  0.5373,  ...,  0.5137,  0.5451,  0.5216],\n",
              "           [ 0.5059,  0.5529,  0.4902,  ...,  0.5529,  0.5059,  0.5216],\n",
              "           [ 0.5059,  0.4588,  0.4902,  ...,  0.3176,  0.4745,  0.4980]],\n",
              " \n",
              "          [[-0.7490, -0.6235, -0.6784,  ..., -0.6941, -0.4980, -0.6549],\n",
              "           [-0.7725, -0.6863, -0.5843,  ..., -0.6235, -0.4980, -0.7725],\n",
              "           [-0.6627, -0.5686, -0.6549,  ..., -0.4980, -0.5608, -0.7490],\n",
              "           ...,\n",
              "           [ 0.6863,  0.5843,  0.5608,  ...,  0.5608,  0.5843,  0.5686],\n",
              "           [ 0.5529,  0.5843,  0.5451,  ...,  0.5843,  0.5451,  0.5686],\n",
              "           [ 0.5529,  0.5059,  0.5216,  ...,  0.3804,  0.4980,  0.5294]]]]),\n",
              " tensor([0, 0, 0, 0, 0, 0, 0, 0, 0, 0, 0, 0, 0, 0, 0, 0, 0, 0, 0, 0, 0, 0, 0, 0,\n",
              "         0, 0, 0, 0, 0, 0, 0, 0])]"
            ]
          },
          "metadata": {},
          "execution_count": 58
        }
      ]
    },
    {
      "cell_type": "code",
      "source": [
        "len(data)"
      ],
      "metadata": {
        "id": "8w6I7ZaQTyHF",
        "outputId": "426f4d8e-d5ee-4a07-d98f-4cc832c0df53",
        "colab": {
          "base_uri": "https://localhost:8080/"
        }
      },
      "execution_count": 59,
      "outputs": [
        {
          "output_type": "execute_result",
          "data": {
            "text/plain": [
              "2"
            ]
          },
          "metadata": {},
          "execution_count": 59
        }
      ]
    },
    {
      "cell_type": "code",
      "source": [
        "images, labels=data\n",
        "images.shape, labels.shape"
      ],
      "metadata": {
        "id": "mZxUziM4T1UK",
        "outputId": "8fa061bd-f5f0-45c4-f529-f2fc8f2e36d0",
        "colab": {
          "base_uri": "https://localhost:8080/"
        }
      },
      "execution_count": 62,
      "outputs": [
        {
          "output_type": "execute_result",
          "data": {
            "text/plain": [
              "(torch.Size([32, 3, 224, 224]), torch.Size([32]))"
            ]
          },
          "metadata": {},
          "execution_count": 62
        }
      ]
    },
    {
      "cell_type": "code",
      "source": [
        "img = images[2]"
      ],
      "metadata": {
        "id": "fUOKrPqgT4xu"
      },
      "execution_count": 61,
      "outputs": []
    },
    {
      "cell_type": "code",
      "source": [
        "plt.imshow(img.permute(1,2,0))"
      ],
      "metadata": {
        "id": "D9RbJr1GT7Mm",
        "outputId": "e04fb8bb-1595-4557-a1d4-a4aba2086acc",
        "colab": {
          "base_uri": "https://localhost:8080/",
          "height": 324
        }
      },
      "execution_count": 63,
      "outputs": [
        {
          "output_type": "stream",
          "name": "stderr",
          "text": [
            "WARNING:matplotlib.image:Clipping input data to the valid range for imshow with RGB data ([0..1] for floats or [0..255] for integers).\n"
          ]
        },
        {
          "output_type": "execute_result",
          "data": {
            "text/plain": [
              "<matplotlib.image.AxesImage at 0x7fadfa2b0fd0>"
            ]
          },
          "metadata": {},
          "execution_count": 63
        },
        {
          "output_type": "display_data",
          "data": {
            "text/plain": [
              "<Figure size 432x288 with 1 Axes>"
            ],
            "image/png": "[encoded data removed]"
          },
          "metadata": {
            "needs_background": "light"
          }
        }
      ]
    },
    {
      "cell_type": "code",
      "source": [
        "img.unsqueeze(0).shape"
      ],
      "metadata": {
        "id": "j9hRlHRhT_wY",
        "outputId": "6257e6b5-6b15-4735-c0c4-ac1c3fcef642",
        "colab": {
          "base_uri": "https://localhost:8080/"
        }
      },
      "execution_count": 64,
      "outputs": [
        {
          "output_type": "execute_result",
          "data": {
            "text/plain": [
              "torch.Size([1, 3, 224, 224])"
            ]
          },
          "metadata": {},
          "execution_count": 64
        }
      ]
    },
    {
      "cell_type": "code",
      "source": [
        "img_on_gpu = img.unsqueeze(0).to(config.DEVICE)\n",
        "\n",
        "pred_prob = F.softmax(model(img_on_gpu), dim=1)\n",
        "pred_prob"
      ],
      "metadata": {
        "id": "h0yyGhNaUEZK",
        "outputId": "97f47504-3a14-48a1-d103-c02df018de07",
        "colab": {
          "base_uri": "https://localhost:8080/"
        }
      },
      "execution_count": 65,
      "outputs": [
        {
          "output_type": "execute_result",
          "data": {
            "text/plain": [
              "tensor([[0.9636, 0.0364]], device='cuda:0', grad_fn=<SoftmaxBackward0>)"
            ]
          },
          "metadata": {},
          "execution_count": 65
        }
      ]
    },
    {
      "cell_type": "code",
      "source": [
        "argmax = torch.argmax(pred_prob).item()\n",
        "argmax"
      ],
      "metadata": {
        "id": "JLK7-H3_UGE7",
        "outputId": "625d0f4d-cc1d-40b1-898f-15f41872bfd1",
        "colab": {
          "base_uri": "https://localhost:8080/"
        }
      },
      "execution_count": 66,
      "outputs": [
        {
          "output_type": "execute_result",
          "data": {
            "text/plain": [
              "0"
            ]
          },
          "metadata": {},
          "execution_count": 66
        }
      ]
    },
    {
      "cell_type": "code",
      "source": [
        "inv_label_map = {val: key for key, val in label_map.items() }\n",
        "\n",
        "inv_label_map"
      ],
      "metadata": {
        "id": "pVyYKS7DUHl2",
        "outputId": "3e3f6aab-07c4-4c73-992a-3851a4145cf0",
        "colab": {
          "base_uri": "https://localhost:8080/"
        }
      },
      "execution_count": 67,
      "outputs": [
        {
          "output_type": "execute_result",
          "data": {
            "text/plain": [
              "{0: 'ants', 1: 'bees'}"
            ]
          },
          "metadata": {},
          "execution_count": 67
        }
      ]
    },
    {
      "cell_type": "code",
      "source": [
        "inv_label_map[argmax], inv_label_map[labels[2].item()]"
      ],
      "metadata": {
        "id": "PnTefHj1UJOx",
        "outputId": "0926fc93-6edc-4073-aaa7-2a99777aa4d5",
        "colab": {
          "base_uri": "https://localhost:8080/"
        }
      },
      "execution_count": 68,
      "outputs": [
        {
          "output_type": "execute_result",
          "data": {
            "text/plain": [
              "('ants', 'ants')"
            ]
          },
          "metadata": {},
          "execution_count": 68
        }
      ]
    },
    {
      "cell_type": "code",
      "source": [
        "def predict(data, model, label_map, device, idx=0):\n",
        "  images, labels = data\n",
        "  img = images[idx]\n",
        "  label = labels[idx]\n",
        "\n",
        "  plt.imshow(img.permute(1,2,0), cmap=\"gray\")\n",
        "  img_on_gpu = img.unsqueeze(0).to(config.DEVICE)\n",
        "\n",
        "  pred_prob = F.softmax(model(img_on_gpu), dim=1)\n",
        "  argmax = torch.argmax(pred_prob).item()\n",
        "  \n",
        "  predicted_label = label_map[argmax]\n",
        "  actual_label = label_map[label.item()]\n",
        "\n",
        "  plt.title(f\"actual: {actual_label} | predicted: {predicted_label}\")\n",
        "  plt.axis(\"off\")\n",
        "  return predicted_label, actual_label\n"
      ],
      "metadata": {
        "id": "qpVBCF59ULSQ"
      },
      "execution_count": 69,
      "outputs": []
    },
    {
      "cell_type": "code",
      "source": [
        "predict(data, model, inv_label_map, config.DEVICE, idx=2)"
      ],
      "metadata": {
        "id": "o9XnCjkJUQOJ",
        "outputId": "2a3264f8-b97c-4b74-aef2-2c5cbb15743c",
        "colab": {
          "base_uri": "https://localhost:8080/",
          "height": 319
        }
      },
      "execution_count": 70,
      "outputs": [
        {
          "output_type": "stream",
          "name": "stderr",
          "text": [
            "WARNING:matplotlib.image:Clipping input data to the valid range for imshow with RGB data ([0..1] for floats or [0..255] for integers).\n"
          ]
        },
        {
          "output_type": "execute_result",
          "data": {
            "text/plain": [
              "('ants', 'ants')"
            ]
          },
          "metadata": {},
          "execution_count": 70
        },
        {
          "output_type": "display_data",
          "data": {
            "text/plain": [
              "<Figure size 432x288 with 1 Axes>"
            ],
            "image/png": "[encoded data removed]"
          },
          "metadata": {
            "needs_background": "light"
          }
        }
      ]
    },
    {
      "cell_type": "code",
      "source": [],
      "metadata": {
        "id": "SW5PeM_QUSDl"
      },
      "execution_count": null,
      "outputs": []
    }
  ]
}